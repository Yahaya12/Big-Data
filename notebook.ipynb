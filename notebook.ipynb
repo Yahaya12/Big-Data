{
 "cells": [
  {
   "cell_type": "code",
   "execution_count": 1,
   "metadata": {},
   "outputs": [],
   "source": [
    "## Importing the libraries\n",
    "import numpy as np\n",
    "import matplotlib.pyplot as plt\n",
    "import pandas as pd\n",
    "import re\n",
    "import seaborn as sns\n",
    "import warnings\n",
    "warnings.filterwarnings('ignore')\n",
    "from sklearn.model_selection import train_test_split\n",
    "from sklearn.cluster import KMeans  \n",
    "from sklearn.metrics import plot_confusion_matrix,ConfusionMatrixDisplay\n",
    "from sklearn.model_selection import train_test_split\n",
    "from sklearn.ensemble import RandomForestClassifier\n",
    "\n",
    "\n",
    "# Importing the dataset\n",
    "data = pd.read_csv('oscars-demographics.csv', encoding ='mac-roman')\n",
    "dataset = data[['birthplace','date_of_birth','race_ethnicity','year_of_award','award']]\n",
    "dataset.head(3)\n",
    "dataset_2= data[['sexual_orientation','movie','religion','person']]\n"
   ]
  },
  {
   "cell_type": "markdown",
   "metadata": {},
   "source": [
    "## Web scraping to pull in the gender to improve our model"
   ]
  },
  {
   "cell_type": "code",
   "execution_count": 2,
   "metadata": {
    "scrolled": false
   },
   "outputs": [],
   "source": [
    "def extraFeatures(link):\n",
    "    import requests\n",
    "    from bs4 import BeautifulSoup\n",
    "    page = requests.get(link)\n",
    "    soup = BeautifulSoup(page.content)\n",
    "#using if else statements we search the page for bold text of Gender \n",
    "    if soup.findAll(\"p\")[2].findAll(\"b\")[0].text == 'Gender:' :\n",
    "        para = soup.findAll(\"p\")[2]\n",
    "        lis = str(para).split(\"br/>\")\n",
    "    elif soup.findAll(\"p\")[1].findAll(\"b\")[0].text == 'Gender:' :\n",
    "        para = soup.findAll(\"p\")[1]\n",
    "        lis = str(para).split(\"<br/>\")\n",
    "    else:\n",
    "        lis = []\n",
    "\n",
    "    return lis\n",
    "\n",
    "features = data.biourl.apply(lambda url:extraFeatures(url))\n",
    " \n",
    "extrafeaturedataset = pd.concat((data.biourl, features.rename('Feature')), axis=1)\n",
    " \n",
    "extrafeaturedataset.to_csv(\"extraDataset.csv\")#we put scrapped data into new csv file "
   ]
  },
  {
   "cell_type": "markdown",
   "metadata": {},
   "source": [
    "## Reading in from our new CSV file"
   ]
  },
  {
   "cell_type": "code",
   "execution_count": 3,
   "metadata": {},
   "outputs": [
    {
     "data": {
      "text/html": [
       "<div>\n",
       "<style scoped>\n",
       "    .dataframe tbody tr th:only-of-type {\n",
       "        vertical-align: middle;\n",
       "    }\n",
       "\n",
       "    .dataframe tbody tr th {\n",
       "        vertical-align: top;\n",
       "    }\n",
       "\n",
       "    .dataframe thead th {\n",
       "        text-align: right;\n",
       "    }\n",
       "</style>\n",
       "<table border=\"1\" class=\"dataframe\">\n",
       "  <thead>\n",
       "    <tr style=\"text-align: right;\">\n",
       "      <th></th>\n",
       "      <th>Unnamed: 0</th>\n",
       "      <th>biourl</th>\n",
       "      <th>Feature</th>\n",
       "    </tr>\n",
       "  </thead>\n",
       "  <tbody>\n",
       "    <tr>\n",
       "      <th>0</th>\n",
       "      <td>0</td>\n",
       "      <td>http://www.nndb.com/people/320/000043191/</td>\n",
       "      <td>['&lt;p&gt;&lt;b&gt;Gender:&lt;/b&gt; Male&lt;', '&lt;b&gt;Race or Ethnic...</td>\n",
       "    </tr>\n",
       "    <tr>\n",
       "      <th>1</th>\n",
       "      <td>1</td>\n",
       "      <td>http://www.nndb.com/people/626/000042500/</td>\n",
       "      <td>['&lt;p&gt;&lt;b&gt;Gender:&lt;/b&gt; Male', '&lt;b&gt;Race or Ethnici...</td>\n",
       "    </tr>\n",
       "    <tr>\n",
       "      <th>2</th>\n",
       "      <td>2</td>\n",
       "      <td>http://www.nndb.com/people/320/000043191/</td>\n",
       "      <td>['&lt;p&gt;&lt;b&gt;Gender:&lt;/b&gt; Male&lt;', '&lt;b&gt;Race or Ethnic...</td>\n",
       "    </tr>\n",
       "    <tr>\n",
       "      <th>3</th>\n",
       "      <td>3</td>\n",
       "      <td>http://www.nndb.com/people/544/000041421/</td>\n",
       "      <td>['&lt;p&gt;&lt;b&gt;Gender:&lt;/b&gt; Male', '&lt;b&gt;Race or Ethnici...</td>\n",
       "    </tr>\n",
       "    <tr>\n",
       "      <th>4</th>\n",
       "      <td>4</td>\n",
       "      <td>http://www.nndb.com/people/292/000044160/</td>\n",
       "      <td>['&lt;p&gt;&lt;b&gt;Gender:&lt;/b&gt; Male', '&lt;b&gt;Religion:&lt;/b&gt; &lt;...</td>\n",
       "    </tr>\n",
       "    <tr>\n",
       "      <th>...</th>\n",
       "      <td>...</td>\n",
       "      <td>...</td>\n",
       "      <td>...</td>\n",
       "    </tr>\n",
       "    <tr>\n",
       "      <th>436</th>\n",
       "      <td>436</td>\n",
       "      <td>http://www.nndb.com/people/309/000032213/</td>\n",
       "      <td>['&lt;p&gt;&lt;b&gt;Gender:&lt;/b&gt; Female', '&lt;b&gt;Religion:&lt;/b&gt;...</td>\n",
       "    </tr>\n",
       "    <tr>\n",
       "      <th>437</th>\n",
       "      <td>437</td>\n",
       "      <td>http://www.nndb.com/people/887/000044755/</td>\n",
       "      <td>['&lt;p&gt;&lt;b&gt;Gender:&lt;/b&gt; Male&lt;', '&lt;b&gt;Religion:&lt;/b&gt; ...</td>\n",
       "    </tr>\n",
       "    <tr>\n",
       "      <th>438</th>\n",
       "      <td>438</td>\n",
       "      <td>http://www.nndb.com/people/224/000032128/</td>\n",
       "      <td>['&lt;p&gt;&lt;b&gt;Gender:&lt;/b&gt; Male&lt;', '&lt;b&gt;Race or Ethnic...</td>\n",
       "    </tr>\n",
       "    <tr>\n",
       "      <th>439</th>\n",
       "      <td>439</td>\n",
       "      <td>http://www.nndb.com/people/764/000022698/</td>\n",
       "      <td>['&lt;p&gt;&lt;b&gt;Gender:&lt;/b&gt; Male&lt;', '&lt;b&gt;Race or Ethnic...</td>\n",
       "    </tr>\n",
       "    <tr>\n",
       "      <th>440</th>\n",
       "      <td>440</td>\n",
       "      <td>http://www.nndb.com/people/704/000024632/</td>\n",
       "      <td>['&lt;p&gt;&lt;b&gt;Gender:&lt;/b&gt; Male&lt;', '&lt;b&gt;Religion:&lt;/b&gt; ...</td>\n",
       "    </tr>\n",
       "  </tbody>\n",
       "</table>\n",
       "<p>441 rows × 3 columns</p>\n",
       "</div>"
      ],
      "text/plain": [
       "     Unnamed: 0                                     biourl  \\\n",
       "0             0  http://www.nndb.com/people/320/000043191/   \n",
       "1             1  http://www.nndb.com/people/626/000042500/   \n",
       "2             2  http://www.nndb.com/people/320/000043191/   \n",
       "3             3  http://www.nndb.com/people/544/000041421/   \n",
       "4             4  http://www.nndb.com/people/292/000044160/   \n",
       "..          ...                                        ...   \n",
       "436         436  http://www.nndb.com/people/309/000032213/   \n",
       "437         437  http://www.nndb.com/people/887/000044755/   \n",
       "438         438  http://www.nndb.com/people/224/000032128/   \n",
       "439         439  http://www.nndb.com/people/764/000022698/   \n",
       "440         440  http://www.nndb.com/people/704/000024632/   \n",
       "\n",
       "                                               Feature  \n",
       "0    ['<p><b>Gender:</b> Male<', '<b>Race or Ethnic...  \n",
       "1    ['<p><b>Gender:</b> Male', '<b>Race or Ethnici...  \n",
       "2    ['<p><b>Gender:</b> Male<', '<b>Race or Ethnic...  \n",
       "3    ['<p><b>Gender:</b> Male', '<b>Race or Ethnici...  \n",
       "4    ['<p><b>Gender:</b> Male', '<b>Religion:</b> <...  \n",
       "..                                                 ...  \n",
       "436  ['<p><b>Gender:</b> Female', '<b>Religion:</b>...  \n",
       "437  ['<p><b>Gender:</b> Male<', '<b>Religion:</b> ...  \n",
       "438  ['<p><b>Gender:</b> Male<', '<b>Race or Ethnic...  \n",
       "439  ['<p><b>Gender:</b> Male<', '<b>Race or Ethnic...  \n",
       "440  ['<p><b>Gender:</b> Male<', '<b>Religion:</b> ...  \n",
       "\n",
       "[441 rows x 3 columns]"
      ]
     },
     "execution_count": 3,
     "metadata": {},
     "output_type": "execute_result"
    }
   ],
   "source": [
    "extrafeaturedataset =pd.read_csv(\"extraDataset.csv\")\n",
    "\n",
    "extrafeaturedataset.head(3)"
   ]
  },
  {
   "cell_type": "code",
   "execution_count": 4,
   "metadata": {},
   "outputs": [],
   "source": [
    "import ast"
   ]
  },
  {
   "cell_type": "code",
   "execution_count": 5,
   "metadata": {},
   "outputs": [],
   "source": [
    "extrafeaturedataset.Feature = extrafeaturedataset.Feature.apply(lambda txt: ast.literal_eval(txt))\n",
    "extrafeaturedataset['Gender'] = extrafeaturedataset.Feature.apply(lambda txt: txt[0].split(' ')[1].replace(\"'\",\"\"))\n"
   ]
  },
  {
   "cell_type": "code",
   "execution_count": 1,
   "metadata": {},
   "outputs": [
    {
     "ename": "NameError",
     "evalue": "name 'extrafeaturedataset' is not defined",
     "output_type": "error",
     "traceback": [
      "\u001b[0;31m---------------------------------------------------------------------------\u001b[0m",
      "\u001b[0;31mNameError\u001b[0m                                 Traceback (most recent call last)",
      "\u001b[0;32m<ipython-input-1-cdc0d3060aba>\u001b[0m in \u001b[0;36m<module>\u001b[0;34m\u001b[0m\n\u001b[0;32m----> 1\u001b[0;31m \u001b[0mextrafeaturedataset\u001b[0m\u001b[0;34m.\u001b[0m\u001b[0mhead\u001b[0m\u001b[0;34m(\u001b[0m\u001b[0;36m3\u001b[0m\u001b[0;34m)\u001b[0m\u001b[0;34m\u001b[0m\u001b[0;34m\u001b[0m\u001b[0m\n\u001b[0m",
      "\u001b[0;31mNameError\u001b[0m: name 'extrafeaturedataset' is not defined"
     ]
    }
   ],
   "source": [
    "extrafeaturedataset.head(3)"
   ]
  },
  {
   "cell_type": "code",
   "execution_count": 7,
   "metadata": {},
   "outputs": [],
   "source": [
    "#we add gender to our datatset to be used for analysis\n",
    "dataset = pd.concat((dataset,extrafeaturedataset.Gender.rename('gender')),axis=1)\n"
   ]
  },
  {
   "cell_type": "code",
   "execution_count": 8,
   "metadata": {},
   "outputs": [
    {
     "data": {
      "text/html": [
       "<div>\n",
       "<style scoped>\n",
       "    .dataframe tbody tr th:only-of-type {\n",
       "        vertical-align: middle;\n",
       "    }\n",
       "\n",
       "    .dataframe tbody tr th {\n",
       "        vertical-align: top;\n",
       "    }\n",
       "\n",
       "    .dataframe thead th {\n",
       "        text-align: right;\n",
       "    }\n",
       "</style>\n",
       "<table border=\"1\" class=\"dataframe\">\n",
       "  <thead>\n",
       "    <tr style=\"text-align: right;\">\n",
       "      <th></th>\n",
       "      <th>birthplace</th>\n",
       "      <th>date_of_birth</th>\n",
       "      <th>race_ethnicity</th>\n",
       "      <th>year_of_award</th>\n",
       "      <th>award</th>\n",
       "      <th>gender</th>\n",
       "    </tr>\n",
       "  </thead>\n",
       "  <tbody>\n",
       "    <tr>\n",
       "      <th>0</th>\n",
       "      <td>Chisinau, Moldova</td>\n",
       "      <td>30-Sep-1895</td>\n",
       "      <td>White</td>\n",
       "      <td>1927</td>\n",
       "      <td>Best Director</td>\n",
       "      <td>Male&lt;</td>\n",
       "    </tr>\n",
       "    <tr>\n",
       "      <th>1</th>\n",
       "      <td>Glasgow, Scotland</td>\n",
       "      <td>2-Feb-1886</td>\n",
       "      <td>White</td>\n",
       "      <td>1930</td>\n",
       "      <td>Best Director</td>\n",
       "      <td>Male</td>\n",
       "    </tr>\n",
       "    <tr>\n",
       "      <th>2</th>\n",
       "      <td>Chisinau, Moldova</td>\n",
       "      <td>30-Sep-1895</td>\n",
       "      <td>White</td>\n",
       "      <td>1931</td>\n",
       "      <td>Best Director</td>\n",
       "      <td>Male&lt;</td>\n",
       "    </tr>\n",
       "    <tr>\n",
       "      <th>3</th>\n",
       "      <td>Chicago, Il</td>\n",
       "      <td>23-Feb-1899</td>\n",
       "      <td>White</td>\n",
       "      <td>1932</td>\n",
       "      <td>Best Director</td>\n",
       "      <td>Male</td>\n",
       "    </tr>\n",
       "    <tr>\n",
       "      <th>4</th>\n",
       "      <td>Salt Lake City, Ut</td>\n",
       "      <td>23-Apr-1894</td>\n",
       "      <td>White</td>\n",
       "      <td>1933</td>\n",
       "      <td>Best Director</td>\n",
       "      <td>Male</td>\n",
       "    </tr>\n",
       "    <tr>\n",
       "      <th>...</th>\n",
       "      <td>...</td>\n",
       "      <td>...</td>\n",
       "      <td>...</td>\n",
       "      <td>...</td>\n",
       "      <td>...</td>\n",
       "      <td>...</td>\n",
       "    </tr>\n",
       "    <tr>\n",
       "      <th>436</th>\n",
       "      <td>London, England</td>\n",
       "      <td>07-Mar-71</td>\n",
       "      <td>White</td>\n",
       "      <td>2006</td>\n",
       "      <td>Best Supporting Actress</td>\n",
       "      <td>Female</td>\n",
       "    </tr>\n",
       "    <tr>\n",
       "      <th>437</th>\n",
       "      <td>Manchester, England</td>\n",
       "      <td>20-Oct-56</td>\n",
       "      <td>White</td>\n",
       "      <td>2009</td>\n",
       "      <td>Best Director</td>\n",
       "      <td>Male&lt;</td>\n",
       "    </tr>\n",
       "    <tr>\n",
       "      <th>438</th>\n",
       "      <td>Chicago, Il</td>\n",
       "      <td>26-Jul-22</td>\n",
       "      <td>White</td>\n",
       "      <td>1977</td>\n",
       "      <td>Best Supporting Actor</td>\n",
       "      <td>Male&lt;</td>\n",
       "    </tr>\n",
       "    <tr>\n",
       "      <th>439</th>\n",
       "      <td>Laurel, Ne</td>\n",
       "      <td>31-Aug-28</td>\n",
       "      <td>White</td>\n",
       "      <td>1999</td>\n",
       "      <td>Best Supporting Actor</td>\n",
       "      <td>Male&lt;</td>\n",
       "    </tr>\n",
       "    <tr>\n",
       "      <th>440</th>\n",
       "      <td>Nevada, Mo</td>\n",
       "      <td>05-Aug-06</td>\n",
       "      <td>White</td>\n",
       "      <td>1949</td>\n",
       "      <td>Best Director</td>\n",
       "      <td>Male&lt;</td>\n",
       "    </tr>\n",
       "  </tbody>\n",
       "</table>\n",
       "<p>441 rows × 6 columns</p>\n",
       "</div>"
      ],
      "text/plain": [
       "              birthplace date_of_birth race_ethnicity  year_of_award  \\\n",
       "0      Chisinau, Moldova   30-Sep-1895          White           1927   \n",
       "1      Glasgow, Scotland    2-Feb-1886          White           1930   \n",
       "2      Chisinau, Moldova   30-Sep-1895          White           1931   \n",
       "3            Chicago, Il   23-Feb-1899          White           1932   \n",
       "4     Salt Lake City, Ut   23-Apr-1894          White           1933   \n",
       "..                   ...           ...            ...            ...   \n",
       "436      London, England     07-Mar-71          White           2006   \n",
       "437  Manchester, England     20-Oct-56          White           2009   \n",
       "438          Chicago, Il     26-Jul-22          White           1977   \n",
       "439           Laurel, Ne     31-Aug-28          White           1999   \n",
       "440           Nevada, Mo     05-Aug-06          White           1949   \n",
       "\n",
       "                       award  gender  \n",
       "0              Best Director   Male<  \n",
       "1              Best Director    Male  \n",
       "2              Best Director   Male<  \n",
       "3              Best Director    Male  \n",
       "4              Best Director    Male  \n",
       "..                       ...     ...  \n",
       "436  Best Supporting Actress  Female  \n",
       "437            Best Director   Male<  \n",
       "438    Best Supporting Actor   Male<  \n",
       "439    Best Supporting Actor   Male<  \n",
       "440            Best Director   Male<  \n",
       "\n",
       "[441 rows x 6 columns]"
      ]
     },
     "execution_count": 8,
     "metadata": {},
     "output_type": "execute_result"
    }
   ],
   "source": [
    "dataset.head(3)"
   ]
  },
  {
   "cell_type": "markdown",
   "metadata": {},
   "source": [
    "## Cleaning our gender column "
   ]
  },
  {
   "cell_type": "code",
   "execution_count": 9,
   "metadata": {},
   "outputs": [
    {
     "data": {
      "text/html": [
       "<div>\n",
       "<style scoped>\n",
       "    .dataframe tbody tr th:only-of-type {\n",
       "        vertical-align: middle;\n",
       "    }\n",
       "\n",
       "    .dataframe tbody tr th {\n",
       "        vertical-align: top;\n",
       "    }\n",
       "\n",
       "    .dataframe thead th {\n",
       "        text-align: right;\n",
       "    }\n",
       "</style>\n",
       "<table border=\"1\" class=\"dataframe\">\n",
       "  <thead>\n",
       "    <tr style=\"text-align: right;\">\n",
       "      <th></th>\n",
       "      <th>birthplace</th>\n",
       "      <th>date_of_birth</th>\n",
       "      <th>race_ethnicity</th>\n",
       "      <th>year_of_award</th>\n",
       "      <th>award</th>\n",
       "      <th>gender</th>\n",
       "    </tr>\n",
       "  </thead>\n",
       "  <tbody>\n",
       "    <tr>\n",
       "      <th>0</th>\n",
       "      <td>Chisinau, Moldova</td>\n",
       "      <td>30-Sep-1895</td>\n",
       "      <td>White</td>\n",
       "      <td>1927</td>\n",
       "      <td>Best Director</td>\n",
       "      <td>Male</td>\n",
       "    </tr>\n",
       "    <tr>\n",
       "      <th>1</th>\n",
       "      <td>Glasgow, Scotland</td>\n",
       "      <td>2-Feb-1886</td>\n",
       "      <td>White</td>\n",
       "      <td>1930</td>\n",
       "      <td>Best Director</td>\n",
       "      <td>Female</td>\n",
       "    </tr>\n",
       "    <tr>\n",
       "      <th>2</th>\n",
       "      <td>Chisinau, Moldova</td>\n",
       "      <td>30-Sep-1895</td>\n",
       "      <td>White</td>\n",
       "      <td>1931</td>\n",
       "      <td>Best Director</td>\n",
       "      <td>Male</td>\n",
       "    </tr>\n",
       "    <tr>\n",
       "      <th>3</th>\n",
       "      <td>Chicago, Il</td>\n",
       "      <td>23-Feb-1899</td>\n",
       "      <td>White</td>\n",
       "      <td>1932</td>\n",
       "      <td>Best Director</td>\n",
       "      <td>Female</td>\n",
       "    </tr>\n",
       "    <tr>\n",
       "      <th>4</th>\n",
       "      <td>Salt Lake City, Ut</td>\n",
       "      <td>23-Apr-1894</td>\n",
       "      <td>White</td>\n",
       "      <td>1933</td>\n",
       "      <td>Best Director</td>\n",
       "      <td>Female</td>\n",
       "    </tr>\n",
       "    <tr>\n",
       "      <th>...</th>\n",
       "      <td>...</td>\n",
       "      <td>...</td>\n",
       "      <td>...</td>\n",
       "      <td>...</td>\n",
       "      <td>...</td>\n",
       "      <td>...</td>\n",
       "    </tr>\n",
       "    <tr>\n",
       "      <th>436</th>\n",
       "      <td>London, England</td>\n",
       "      <td>07-Mar-71</td>\n",
       "      <td>White</td>\n",
       "      <td>2006</td>\n",
       "      <td>Best Supporting Actress</td>\n",
       "      <td>Female</td>\n",
       "    </tr>\n",
       "    <tr>\n",
       "      <th>437</th>\n",
       "      <td>Manchester, England</td>\n",
       "      <td>20-Oct-56</td>\n",
       "      <td>White</td>\n",
       "      <td>2009</td>\n",
       "      <td>Best Director</td>\n",
       "      <td>Male</td>\n",
       "    </tr>\n",
       "    <tr>\n",
       "      <th>438</th>\n",
       "      <td>Chicago, Il</td>\n",
       "      <td>26-Jul-22</td>\n",
       "      <td>White</td>\n",
       "      <td>1977</td>\n",
       "      <td>Best Supporting Actor</td>\n",
       "      <td>Male</td>\n",
       "    </tr>\n",
       "    <tr>\n",
       "      <th>439</th>\n",
       "      <td>Laurel, Ne</td>\n",
       "      <td>31-Aug-28</td>\n",
       "      <td>White</td>\n",
       "      <td>1999</td>\n",
       "      <td>Best Supporting Actor</td>\n",
       "      <td>Male</td>\n",
       "    </tr>\n",
       "    <tr>\n",
       "      <th>440</th>\n",
       "      <td>Nevada, Mo</td>\n",
       "      <td>05-Aug-06</td>\n",
       "      <td>White</td>\n",
       "      <td>1949</td>\n",
       "      <td>Best Director</td>\n",
       "      <td>Male</td>\n",
       "    </tr>\n",
       "  </tbody>\n",
       "</table>\n",
       "<p>441 rows × 6 columns</p>\n",
       "</div>"
      ],
      "text/plain": [
       "              birthplace date_of_birth race_ethnicity  year_of_award  \\\n",
       "0      Chisinau, Moldova   30-Sep-1895          White           1927   \n",
       "1      Glasgow, Scotland    2-Feb-1886          White           1930   \n",
       "2      Chisinau, Moldova   30-Sep-1895          White           1931   \n",
       "3            Chicago, Il   23-Feb-1899          White           1932   \n",
       "4     Salt Lake City, Ut   23-Apr-1894          White           1933   \n",
       "..                   ...           ...            ...            ...   \n",
       "436      London, England     07-Mar-71          White           2006   \n",
       "437  Manchester, England     20-Oct-56          White           2009   \n",
       "438          Chicago, Il     26-Jul-22          White           1977   \n",
       "439           Laurel, Ne     31-Aug-28          White           1999   \n",
       "440           Nevada, Mo     05-Aug-06          White           1949   \n",
       "\n",
       "                       award  gender  \n",
       "0              Best Director    Male  \n",
       "1              Best Director  Female  \n",
       "2              Best Director    Male  \n",
       "3              Best Director  Female  \n",
       "4              Best Director  Female  \n",
       "..                       ...     ...  \n",
       "436  Best Supporting Actress  Female  \n",
       "437            Best Director    Male  \n",
       "438    Best Supporting Actor    Male  \n",
       "439    Best Supporting Actor    Male  \n",
       "440            Best Director    Male  \n",
       "\n",
       "[441 rows x 6 columns]"
      ]
     },
     "execution_count": 9,
     "metadata": {},
     "output_type": "execute_result"
    }
   ],
   "source": [
    "gender = dataset['gender']\n",
    "\n",
    "def genderCleaning(x):\n",
    "    if \"Male<\" in x :\n",
    "        return \"Male\"\n",
    "    else:\n",
    "        return \"Female\"\n",
    "\n",
    "\n",
    "dataset['gender'] = gender.apply(lambda txt:genderCleaning(txt))\n",
    "\n",
    "dataset.head(3)"
   ]
  },
  {
   "cell_type": "code",
   "execution_count": 10,
   "metadata": {},
   "outputs": [
    {
     "name": "stdout",
     "output_type": "stream",
     "text": [
      "0      11\n",
      "1      10\n",
      "2      11\n",
      "3      11\n",
      "4      11\n",
      "       ..\n",
      "436     9\n",
      "437     9\n",
      "438     9\n",
      "439     9\n",
      "440     9\n",
      "Name: ldob, Length: 441, dtype: int64\n"
     ]
    }
   ],
   "source": [
    "'''#here we get the length of date_of_birth and assign in to the new column ldob \n",
    "for index, row in dataset.iterrows():\n",
    "    dataset.loc[index, 'ldob'] = len(row['date_of_birth'])'''\n",
    "    \n",
    "#here we get the length of date_of_birth and assign in to the new column ldob \n",
    "dataset['ldob'] = dataset.date_of_birth.apply(len) \n",
    "\n",
    "print(dataset['ldob'])"
   ]
  },
  {
   "cell_type": "code",
   "execution_count": 11,
   "metadata": {},
   "outputs": [],
   "source": [
    "dataset = dataset.drop([54, 84, 246, 249], axis=0) "
   ]
  },
  {
   "cell_type": "code",
   "execution_count": 12,
   "metadata": {},
   "outputs": [],
   "source": [
    "dataset['ldob'] = dataset['ldob'].astype(int)"
   ]
  },
  {
   "cell_type": "code",
   "execution_count": 13,
   "metadata": {},
   "outputs": [
    {
     "data": {
      "text/html": [
       "<div>\n",
       "<style scoped>\n",
       "    .dataframe tbody tr th:only-of-type {\n",
       "        vertical-align: middle;\n",
       "    }\n",
       "\n",
       "    .dataframe tbody tr th {\n",
       "        vertical-align: top;\n",
       "    }\n",
       "\n",
       "    .dataframe thead th {\n",
       "        text-align: right;\n",
       "    }\n",
       "</style>\n",
       "<table border=\"1\" class=\"dataframe\">\n",
       "  <thead>\n",
       "    <tr style=\"text-align: right;\">\n",
       "      <th></th>\n",
       "      <th>birthplace</th>\n",
       "      <th>date_of_birth</th>\n",
       "      <th>race_ethnicity</th>\n",
       "      <th>year_of_award</th>\n",
       "      <th>award</th>\n",
       "      <th>gender</th>\n",
       "      <th>ldob</th>\n",
       "    </tr>\n",
       "  </thead>\n",
       "  <tbody>\n",
       "    <tr>\n",
       "      <th>0</th>\n",
       "      <td>Chisinau, Moldova</td>\n",
       "      <td>30-Sep-1895</td>\n",
       "      <td>White</td>\n",
       "      <td>1927</td>\n",
       "      <td>Best Director</td>\n",
       "      <td>Male</td>\n",
       "      <td>11</td>\n",
       "    </tr>\n",
       "    <tr>\n",
       "      <th>1</th>\n",
       "      <td>Glasgow, Scotland</td>\n",
       "      <td>2-Feb-1886</td>\n",
       "      <td>White</td>\n",
       "      <td>1930</td>\n",
       "      <td>Best Director</td>\n",
       "      <td>Female</td>\n",
       "      <td>10</td>\n",
       "    </tr>\n",
       "    <tr>\n",
       "      <th>2</th>\n",
       "      <td>Chisinau, Moldova</td>\n",
       "      <td>30-Sep-1895</td>\n",
       "      <td>White</td>\n",
       "      <td>1931</td>\n",
       "      <td>Best Director</td>\n",
       "      <td>Male</td>\n",
       "      <td>11</td>\n",
       "    </tr>\n",
       "  </tbody>\n",
       "</table>\n",
       "</div>"
      ],
      "text/plain": [
       "          birthplace date_of_birth race_ethnicity  year_of_award  \\\n",
       "0  Chisinau, Moldova   30-Sep-1895          White           1927   \n",
       "1  Glasgow, Scotland    2-Feb-1886          White           1930   \n",
       "2  Chisinau, Moldova   30-Sep-1895          White           1931   \n",
       "\n",
       "           award  gender  ldob  \n",
       "0  Best Director    Male    11  \n",
       "1  Best Director  Female    10  \n",
       "2  Best Director    Male    11  "
      ]
     },
     "execution_count": 13,
     "metadata": {},
     "output_type": "execute_result"
    }
   ],
   "source": [
    "dataset.head(3)"
   ]
  },
  {
   "cell_type": "code",
   "execution_count": 14,
   "metadata": {},
   "outputs": [],
   "source": [
    "def checker_2(value):\n",
    "    y = re.search(\"(?<=(\\d{2})-(\\D{3})-)(\\d{2})(?=$)\", value)\n",
    "    if y:\n",
    "        pos = y.span()\n",
    "        year= y.group(0)\n",
    "        return value[:pos[0]] + \"19\" + year\n",
    "    else:\n",
    "        return value\n",
    "\n",
    "dataset.date_of_birth=dataset.date_of_birth.apply(lambda y: checker_2(y))\n",
    "\n"
   ]
  },
  {
   "cell_type": "code",
   "execution_count": 15,
   "metadata": {},
   "outputs": [],
   "source": [
    "def checker(value):\n",
    "    '''r it just tells python the regular expression is in a raw format \n",
    "    \\b checks if the day has only one number \\w checks if it is a word in the month space ?= checks the front (look ahead)\n",
    "    ''' \n",
    "    x = re.search(r\"(\\b\\d{1})(?=-(\\w{3})-\\d{4})\", value) \n",
    "    if x:\n",
    "        pos = x.span()#finds out the position of the matched value \n",
    "        day = x.group(0)#group(0) takes the first match \n",
    "        return \"0\" + day + value[pos[0] + 1:]#removes initial single digit day from date, then concatenates regex search results with new day.\n",
    "    else:\n",
    "        return value\n",
    "dataset.date_of_birth=dataset.date_of_birth.apply(lambda x: checker(x))\n"
   ]
  },
  {
   "cell_type": "code",
   "execution_count": 16,
   "metadata": {},
   "outputs": [],
   "source": [
    "\n",
    "\n",
    "for index, row in dataset.iterrows():\n",
    "    state = row[\"birthplace\"].rsplit(',', 1)[0]\n",
    "    country = row[\"birthplace\"].split(',')[-1].strip()\n",
    "    \n",
    "    if len(country) == 2: \n",
    "        country = \"USA\"\n",
    "    else:\n",
    "        country = country  \n",
    "        \n",
    "    dataset.loc[index,'country'] = country\n",
    "    dataset.loc[index, 'birthplace'] = state + \", \" + country \n",
    "      \n"
   ]
  },
  {
   "cell_type": "code",
   "execution_count": 17,
   "metadata": {},
   "outputs": [],
   "source": [
    "#dataset = dataset.drop([84,54], axis=0)"
   ]
  },
  {
   "cell_type": "code",
   "execution_count": 18,
   "metadata": {},
   "outputs": [],
   "source": [
    "for index, row in dataset.iterrows():\n",
    "    dataset.loc[index, 'ldob'] = len(row['date_of_birth'])\n"
   ]
  },
  {
   "cell_type": "code",
   "execution_count": 19,
   "metadata": {},
   "outputs": [],
   "source": [
    "'''for index, row in dataset.iterrows():\n",
    "    year_of_birth = row['date_of_birth'].split('-')[2] #Get year of birth from the date of birth\n",
    "    dataset.loc[index,'award_age'] = int(row['year_of_award']) - int(year_of_birth)# add a new column award_age created from the subtraction of the year of birth from the year of award'''\n",
    "#Get award age\n",
    "dataset['award_age'] = dataset.apply(lambda row:np.subtract(row['year_of_award'],int(row['date_of_birth'].split('-')[2])), axis=1)\n"
   ]
  },
  {
   "cell_type": "code",
   "execution_count": 20,
   "metadata": {},
   "outputs": [],
   "source": [
    "#dataset['award_age'] = dataset['award_age'].astype(int)"
   ]
  },
  {
   "cell_type": "code",
   "execution_count": 21,
   "metadata": {},
   "outputs": [
    {
     "data": {
      "text/plain": [
       "(437, 9)"
      ]
     },
     "execution_count": 21,
     "metadata": {},
     "output_type": "execute_result"
    }
   ],
   "source": [
    "dataset.shape"
   ]
  },
  {
   "cell_type": "code",
   "execution_count": 22,
   "metadata": {},
   "outputs": [],
   "source": [
    "\n",
    "#adding extra data to be used to improve our model\n",
    "dataset['sexual_orientation']=dataset_2['sexual_orientation']\n",
    "dataset['movie']=dataset_2['movie']  \n",
    "dataset['religion']=dataset_2['religion'] \n",
    "dataset['person']=dataset_2['person']\n",
    "\n",
    "\n"
   ]
  },
  {
   "cell_type": "code",
   "execution_count": 23,
   "metadata": {},
   "outputs": [
    {
     "data": {
      "text/html": [
       "<div>\n",
       "<style scoped>\n",
       "    .dataframe tbody tr th:only-of-type {\n",
       "        vertical-align: middle;\n",
       "    }\n",
       "\n",
       "    .dataframe tbody tr th {\n",
       "        vertical-align: top;\n",
       "    }\n",
       "\n",
       "    .dataframe thead th {\n",
       "        text-align: right;\n",
       "    }\n",
       "</style>\n",
       "<table border=\"1\" class=\"dataframe\">\n",
       "  <thead>\n",
       "    <tr style=\"text-align: right;\">\n",
       "      <th></th>\n",
       "      <th>birthplace</th>\n",
       "      <th>date_of_birth</th>\n",
       "      <th>race_ethnicity</th>\n",
       "      <th>year_of_award</th>\n",
       "      <th>award</th>\n",
       "      <th>gender</th>\n",
       "      <th>ldob</th>\n",
       "      <th>country</th>\n",
       "      <th>award_age</th>\n",
       "      <th>sexual_orientation</th>\n",
       "      <th>movie</th>\n",
       "      <th>religion</th>\n",
       "      <th>person</th>\n",
       "    </tr>\n",
       "  </thead>\n",
       "  <tbody>\n",
       "    <tr>\n",
       "      <th>0</th>\n",
       "      <td>Chisinau, Moldova</td>\n",
       "      <td>30-Sep-1895</td>\n",
       "      <td>White</td>\n",
       "      <td>1927</td>\n",
       "      <td>Best Director</td>\n",
       "      <td>Male</td>\n",
       "      <td>11</td>\n",
       "      <td>Moldova</td>\n",
       "      <td>32</td>\n",
       "      <td>Straight</td>\n",
       "      <td>Two Arabian Knights</td>\n",
       "      <td>Na</td>\n",
       "      <td>Lewis Milestone</td>\n",
       "    </tr>\n",
       "    <tr>\n",
       "      <th>1</th>\n",
       "      <td>Glasgow, Scotland</td>\n",
       "      <td>02-Feb-1886</td>\n",
       "      <td>White</td>\n",
       "      <td>1930</td>\n",
       "      <td>Best Director</td>\n",
       "      <td>Female</td>\n",
       "      <td>11</td>\n",
       "      <td>Scotland</td>\n",
       "      <td>44</td>\n",
       "      <td>Straight</td>\n",
       "      <td>The Divine Lady</td>\n",
       "      <td>Na</td>\n",
       "      <td>Frank Lloyd</td>\n",
       "    </tr>\n",
       "    <tr>\n",
       "      <th>2</th>\n",
       "      <td>Chisinau, Moldova</td>\n",
       "      <td>30-Sep-1895</td>\n",
       "      <td>White</td>\n",
       "      <td>1931</td>\n",
       "      <td>Best Director</td>\n",
       "      <td>Male</td>\n",
       "      <td>11</td>\n",
       "      <td>Moldova</td>\n",
       "      <td>36</td>\n",
       "      <td>Straight</td>\n",
       "      <td>All Quiet on the Western Front</td>\n",
       "      <td>Na</td>\n",
       "      <td>Lewis Milestone</td>\n",
       "    </tr>\n",
       "    <tr>\n",
       "      <th>3</th>\n",
       "      <td>Chicago, USA</td>\n",
       "      <td>23-Feb-1899</td>\n",
       "      <td>White</td>\n",
       "      <td>1932</td>\n",
       "      <td>Best Director</td>\n",
       "      <td>Female</td>\n",
       "      <td>11</td>\n",
       "      <td>USA</td>\n",
       "      <td>33</td>\n",
       "      <td>Straight</td>\n",
       "      <td>Skippy</td>\n",
       "      <td>Na</td>\n",
       "      <td>Norman Taurog</td>\n",
       "    </tr>\n",
       "    <tr>\n",
       "      <th>4</th>\n",
       "      <td>Salt Lake City, USA</td>\n",
       "      <td>23-Apr-1894</td>\n",
       "      <td>White</td>\n",
       "      <td>1933</td>\n",
       "      <td>Best Director</td>\n",
       "      <td>Female</td>\n",
       "      <td>11</td>\n",
       "      <td>USA</td>\n",
       "      <td>39</td>\n",
       "      <td>Straight</td>\n",
       "      <td>Bad Girl</td>\n",
       "      <td>Roman Catholic</td>\n",
       "      <td>Frank Borzage</td>\n",
       "    </tr>\n",
       "    <tr>\n",
       "      <th>...</th>\n",
       "      <td>...</td>\n",
       "      <td>...</td>\n",
       "      <td>...</td>\n",
       "      <td>...</td>\n",
       "      <td>...</td>\n",
       "      <td>...</td>\n",
       "      <td>...</td>\n",
       "      <td>...</td>\n",
       "      <td>...</td>\n",
       "      <td>...</td>\n",
       "      <td>...</td>\n",
       "      <td>...</td>\n",
       "      <td>...</td>\n",
       "    </tr>\n",
       "    <tr>\n",
       "      <th>411</th>\n",
       "      <td>Woodlawn, USA</td>\n",
       "      <td>11-Dec-1967</td>\n",
       "      <td>Black</td>\n",
       "      <td>2010</td>\n",
       "      <td>Best Supporting Actress</td>\n",
       "      <td>Female</td>\n",
       "      <td>11</td>\n",
       "      <td>USA</td>\n",
       "      <td>43</td>\n",
       "      <td>Straight</td>\n",
       "      <td>Precious</td>\n",
       "      <td>Na</td>\n",
       "      <td>Mo'Nique</td>\n",
       "    </tr>\n",
       "    <tr>\n",
       "      <th>412</th>\n",
       "      <td>New York City, New York City</td>\n",
       "      <td>14-Sep-1960</td>\n",
       "      <td>White</td>\n",
       "      <td>2011</td>\n",
       "      <td>Best Supporting Actress</td>\n",
       "      <td>Female</td>\n",
       "      <td>11</td>\n",
       "      <td>New York City</td>\n",
       "      <td>51</td>\n",
       "      <td>Straight</td>\n",
       "      <td>The Fighter</td>\n",
       "      <td>Na</td>\n",
       "      <td>Melissa Leo</td>\n",
       "    </tr>\n",
       "    <tr>\n",
       "      <th>413</th>\n",
       "      <td>Montgomery, USA</td>\n",
       "      <td>25-May-1972</td>\n",
       "      <td>Black</td>\n",
       "      <td>2012</td>\n",
       "      <td>Best Supporting Actress</td>\n",
       "      <td>Female</td>\n",
       "      <td>11</td>\n",
       "      <td>USA</td>\n",
       "      <td>40</td>\n",
       "      <td>Na</td>\n",
       "      <td>The Help</td>\n",
       "      <td>Na</td>\n",
       "      <td>Octavia Spencer</td>\n",
       "    </tr>\n",
       "    <tr>\n",
       "      <th>414</th>\n",
       "      <td>Brooklyn, USA</td>\n",
       "      <td>12-Nov-1982</td>\n",
       "      <td>White</td>\n",
       "      <td>2013</td>\n",
       "      <td>Best Supporting Actress</td>\n",
       "      <td>Female</td>\n",
       "      <td>11</td>\n",
       "      <td>USA</td>\n",
       "      <td>31</td>\n",
       "      <td>Straight</td>\n",
       "      <td>Les Misí©rables</td>\n",
       "      <td>Christian</td>\n",
       "      <td>Anne Hathaway</td>\n",
       "    </tr>\n",
       "    <tr>\n",
       "      <th>415</th>\n",
       "      <td>Mexico City, Mexico</td>\n",
       "      <td>01-Mar-1983</td>\n",
       "      <td>Black</td>\n",
       "      <td>2014</td>\n",
       "      <td>Best Supporting Actress</td>\n",
       "      <td>Female</td>\n",
       "      <td>11</td>\n",
       "      <td>Mexico</td>\n",
       "      <td>31</td>\n",
       "      <td>Na</td>\n",
       "      <td>12 Years a Slave</td>\n",
       "      <td>Na</td>\n",
       "      <td>Lupita Nyong'o</td>\n",
       "    </tr>\n",
       "  </tbody>\n",
       "</table>\n",
       "<p>412 rows × 13 columns</p>\n",
       "</div>"
      ],
      "text/plain": [
       "                       birthplace date_of_birth race_ethnicity  year_of_award  \\\n",
       "0               Chisinau, Moldova   30-Sep-1895          White           1927   \n",
       "1               Glasgow, Scotland   02-Feb-1886          White           1930   \n",
       "2               Chisinau, Moldova   30-Sep-1895          White           1931   \n",
       "3                    Chicago, USA   23-Feb-1899          White           1932   \n",
       "4             Salt Lake City, USA   23-Apr-1894          White           1933   \n",
       "..                            ...           ...            ...            ...   \n",
       "411                 Woodlawn, USA   11-Dec-1967          Black           2010   \n",
       "412  New York City, New York City   14-Sep-1960          White           2011   \n",
       "413               Montgomery, USA   25-May-1972          Black           2012   \n",
       "414                 Brooklyn, USA   12-Nov-1982          White           2013   \n",
       "415           Mexico City, Mexico   01-Mar-1983          Black           2014   \n",
       "\n",
       "                       award  gender  ldob        country  award_age  \\\n",
       "0              Best Director    Male    11        Moldova         32   \n",
       "1              Best Director  Female    11       Scotland         44   \n",
       "2              Best Director    Male    11        Moldova         36   \n",
       "3              Best Director  Female    11            USA         33   \n",
       "4              Best Director  Female    11            USA         39   \n",
       "..                       ...     ...   ...            ...        ...   \n",
       "411  Best Supporting Actress  Female    11            USA         43   \n",
       "412  Best Supporting Actress  Female    11  New York City         51   \n",
       "413  Best Supporting Actress  Female    11            USA         40   \n",
       "414  Best Supporting Actress  Female    11            USA         31   \n",
       "415  Best Supporting Actress  Female    11         Mexico         31   \n",
       "\n",
       "    sexual_orientation                           movie        religion  \\\n",
       "0             Straight             Two Arabian Knights              Na   \n",
       "1             Straight                 The Divine Lady              Na   \n",
       "2             Straight  All Quiet on the Western Front              Na   \n",
       "3             Straight                          Skippy              Na   \n",
       "4             Straight                        Bad Girl  Roman Catholic   \n",
       "..                 ...                             ...             ...   \n",
       "411           Straight                        Precious              Na   \n",
       "412           Straight                     The Fighter              Na   \n",
       "413                 Na                        The Help              Na   \n",
       "414           Straight                 Les Misí©rables       Christian   \n",
       "415                 Na                12 Years a Slave              Na   \n",
       "\n",
       "              person  \n",
       "0    Lewis Milestone  \n",
       "1        Frank Lloyd  \n",
       "2    Lewis Milestone  \n",
       "3      Norman Taurog  \n",
       "4      Frank Borzage  \n",
       "..               ...  \n",
       "411         Mo'Nique  \n",
       "412      Melissa Leo  \n",
       "413  Octavia Spencer  \n",
       "414    Anne Hathaway  \n",
       "415   Lupita Nyong'o  \n",
       "\n",
       "[412 rows x 13 columns]"
      ]
     },
     "execution_count": 23,
     "metadata": {},
     "output_type": "execute_result"
    }
   ],
   "source": [
    "#here we remove the duplicates in our dataset \n",
    "dataset.drop_duplicates()\n"
   ]
  },
  {
   "cell_type": "code",
   "execution_count": 24,
   "metadata": {},
   "outputs": [
    {
     "data": {
      "text/html": [
       "<div>\n",
       "<style scoped>\n",
       "    .dataframe tbody tr th:only-of-type {\n",
       "        vertical-align: middle;\n",
       "    }\n",
       "\n",
       "    .dataframe tbody tr th {\n",
       "        vertical-align: top;\n",
       "    }\n",
       "\n",
       "    .dataframe thead th {\n",
       "        text-align: right;\n",
       "    }\n",
       "</style>\n",
       "<table border=\"1\" class=\"dataframe\">\n",
       "  <thead>\n",
       "    <tr style=\"text-align: right;\">\n",
       "      <th></th>\n",
       "      <th>birthplace</th>\n",
       "      <th>date_of_birth</th>\n",
       "      <th>race_ethnicity</th>\n",
       "      <th>year_of_award</th>\n",
       "      <th>award</th>\n",
       "      <th>gender</th>\n",
       "      <th>ldob</th>\n",
       "      <th>country</th>\n",
       "      <th>award_age</th>\n",
       "      <th>sexual_orientation</th>\n",
       "      <th>movie</th>\n",
       "      <th>religion</th>\n",
       "      <th>person</th>\n",
       "    </tr>\n",
       "  </thead>\n",
       "  <tbody>\n",
       "    <tr>\n",
       "      <th>0</th>\n",
       "      <td>Chisinau, Moldova</td>\n",
       "      <td>30-Sep-1895</td>\n",
       "      <td>White</td>\n",
       "      <td>1927</td>\n",
       "      <td>Best Director</td>\n",
       "      <td>Male</td>\n",
       "      <td>11</td>\n",
       "      <td>Moldova</td>\n",
       "      <td>32</td>\n",
       "      <td>Straight</td>\n",
       "      <td>Two Arabian Knights</td>\n",
       "      <td>Na</td>\n",
       "      <td>Lewis Milestone</td>\n",
       "    </tr>\n",
       "    <tr>\n",
       "      <th>1</th>\n",
       "      <td>Glasgow, Scotland</td>\n",
       "      <td>02-Feb-1886</td>\n",
       "      <td>White</td>\n",
       "      <td>1930</td>\n",
       "      <td>Best Director</td>\n",
       "      <td>Female</td>\n",
       "      <td>11</td>\n",
       "      <td>Scotland</td>\n",
       "      <td>44</td>\n",
       "      <td>Straight</td>\n",
       "      <td>The Divine Lady</td>\n",
       "      <td>Na</td>\n",
       "      <td>Frank Lloyd</td>\n",
       "    </tr>\n",
       "    <tr>\n",
       "      <th>2</th>\n",
       "      <td>Chisinau, Moldova</td>\n",
       "      <td>30-Sep-1895</td>\n",
       "      <td>White</td>\n",
       "      <td>1931</td>\n",
       "      <td>Best Director</td>\n",
       "      <td>Male</td>\n",
       "      <td>11</td>\n",
       "      <td>Moldova</td>\n",
       "      <td>36</td>\n",
       "      <td>Straight</td>\n",
       "      <td>All Quiet on the Western Front</td>\n",
       "      <td>Na</td>\n",
       "      <td>Lewis Milestone</td>\n",
       "    </tr>\n",
       "    <tr>\n",
       "      <th>3</th>\n",
       "      <td>Chicago, USA</td>\n",
       "      <td>23-Feb-1899</td>\n",
       "      <td>White</td>\n",
       "      <td>1932</td>\n",
       "      <td>Best Director</td>\n",
       "      <td>Female</td>\n",
       "      <td>11</td>\n",
       "      <td>USA</td>\n",
       "      <td>33</td>\n",
       "      <td>Straight</td>\n",
       "      <td>Skippy</td>\n",
       "      <td>Na</td>\n",
       "      <td>Norman Taurog</td>\n",
       "    </tr>\n",
       "    <tr>\n",
       "      <th>4</th>\n",
       "      <td>Salt Lake City, USA</td>\n",
       "      <td>23-Apr-1894</td>\n",
       "      <td>White</td>\n",
       "      <td>1933</td>\n",
       "      <td>Best Director</td>\n",
       "      <td>Female</td>\n",
       "      <td>11</td>\n",
       "      <td>USA</td>\n",
       "      <td>39</td>\n",
       "      <td>Straight</td>\n",
       "      <td>Bad Girl</td>\n",
       "      <td>Roman Catholic</td>\n",
       "      <td>Frank Borzage</td>\n",
       "    </tr>\n",
       "    <tr>\n",
       "      <th>...</th>\n",
       "      <td>...</td>\n",
       "      <td>...</td>\n",
       "      <td>...</td>\n",
       "      <td>...</td>\n",
       "      <td>...</td>\n",
       "      <td>...</td>\n",
       "      <td>...</td>\n",
       "      <td>...</td>\n",
       "      <td>...</td>\n",
       "      <td>...</td>\n",
       "      <td>...</td>\n",
       "      <td>...</td>\n",
       "      <td>...</td>\n",
       "    </tr>\n",
       "    <tr>\n",
       "      <th>436</th>\n",
       "      <td>London, England</td>\n",
       "      <td>07-Mar-1971</td>\n",
       "      <td>White</td>\n",
       "      <td>2006</td>\n",
       "      <td>Best Supporting Actress</td>\n",
       "      <td>Female</td>\n",
       "      <td>11</td>\n",
       "      <td>England</td>\n",
       "      <td>35</td>\n",
       "      <td>Straight</td>\n",
       "      <td>The Constant Gardener</td>\n",
       "      <td>Jewish</td>\n",
       "      <td>Rachel Weisz</td>\n",
       "    </tr>\n",
       "    <tr>\n",
       "      <th>437</th>\n",
       "      <td>Manchester, England</td>\n",
       "      <td>20-Oct-1956</td>\n",
       "      <td>White</td>\n",
       "      <td>2009</td>\n",
       "      <td>Best Director</td>\n",
       "      <td>Male</td>\n",
       "      <td>11</td>\n",
       "      <td>England</td>\n",
       "      <td>53</td>\n",
       "      <td>Straight</td>\n",
       "      <td>Slumdog Millionaire</td>\n",
       "      <td>Roman Catholic</td>\n",
       "      <td>Danny Boyle</td>\n",
       "    </tr>\n",
       "    <tr>\n",
       "      <th>438</th>\n",
       "      <td>Chicago, USA</td>\n",
       "      <td>26-Jul-1922</td>\n",
       "      <td>White</td>\n",
       "      <td>1977</td>\n",
       "      <td>Best Supporting Actor</td>\n",
       "      <td>Male</td>\n",
       "      <td>11</td>\n",
       "      <td>USA</td>\n",
       "      <td>55</td>\n",
       "      <td>Straight</td>\n",
       "      <td>All the President's Men</td>\n",
       "      <td>Na</td>\n",
       "      <td>Jason Robards</td>\n",
       "    </tr>\n",
       "    <tr>\n",
       "      <th>439</th>\n",
       "      <td>Laurel, USA</td>\n",
       "      <td>31-Aug-1928</td>\n",
       "      <td>White</td>\n",
       "      <td>1999</td>\n",
       "      <td>Best Supporting Actor</td>\n",
       "      <td>Male</td>\n",
       "      <td>11</td>\n",
       "      <td>USA</td>\n",
       "      <td>71</td>\n",
       "      <td>Straight</td>\n",
       "      <td>Affliction</td>\n",
       "      <td>Na</td>\n",
       "      <td>James Coburn</td>\n",
       "    </tr>\n",
       "    <tr>\n",
       "      <th>440</th>\n",
       "      <td>Nevada, USA</td>\n",
       "      <td>05-Aug-1906</td>\n",
       "      <td>White</td>\n",
       "      <td>1949</td>\n",
       "      <td>Best Director</td>\n",
       "      <td>Male</td>\n",
       "      <td>11</td>\n",
       "      <td>USA</td>\n",
       "      <td>43</td>\n",
       "      <td>Straight</td>\n",
       "      <td>The Treasure of the Sierra Madre</td>\n",
       "      <td>Na</td>\n",
       "      <td>John Huston</td>\n",
       "    </tr>\n",
       "  </tbody>\n",
       "</table>\n",
       "<p>437 rows × 13 columns</p>\n",
       "</div>"
      ],
      "text/plain": [
       "              birthplace date_of_birth race_ethnicity  year_of_award  \\\n",
       "0      Chisinau, Moldova   30-Sep-1895          White           1927   \n",
       "1      Glasgow, Scotland   02-Feb-1886          White           1930   \n",
       "2      Chisinau, Moldova   30-Sep-1895          White           1931   \n",
       "3           Chicago, USA   23-Feb-1899          White           1932   \n",
       "4    Salt Lake City, USA   23-Apr-1894          White           1933   \n",
       "..                   ...           ...            ...            ...   \n",
       "436      London, England   07-Mar-1971          White           2006   \n",
       "437  Manchester, England   20-Oct-1956          White           2009   \n",
       "438         Chicago, USA   26-Jul-1922          White           1977   \n",
       "439          Laurel, USA   31-Aug-1928          White           1999   \n",
       "440          Nevada, USA   05-Aug-1906          White           1949   \n",
       "\n",
       "                       award  gender  ldob   country  award_age  \\\n",
       "0              Best Director    Male    11   Moldova         32   \n",
       "1              Best Director  Female    11  Scotland         44   \n",
       "2              Best Director    Male    11   Moldova         36   \n",
       "3              Best Director  Female    11       USA         33   \n",
       "4              Best Director  Female    11       USA         39   \n",
       "..                       ...     ...   ...       ...        ...   \n",
       "436  Best Supporting Actress  Female    11   England         35   \n",
       "437            Best Director    Male    11   England         53   \n",
       "438    Best Supporting Actor    Male    11       USA         55   \n",
       "439    Best Supporting Actor    Male    11       USA         71   \n",
       "440            Best Director    Male    11       USA         43   \n",
       "\n",
       "    sexual_orientation                             movie        religion  \\\n",
       "0             Straight               Two Arabian Knights              Na   \n",
       "1             Straight                   The Divine Lady              Na   \n",
       "2             Straight    All Quiet on the Western Front              Na   \n",
       "3             Straight                            Skippy              Na   \n",
       "4             Straight                          Bad Girl  Roman Catholic   \n",
       "..                 ...                               ...             ...   \n",
       "436           Straight             The Constant Gardener          Jewish   \n",
       "437           Straight               Slumdog Millionaire  Roman Catholic   \n",
       "438           Straight           All the President's Men              Na   \n",
       "439           Straight                        Affliction              Na   \n",
       "440           Straight  The Treasure of the Sierra Madre              Na   \n",
       "\n",
       "              person  \n",
       "0    Lewis Milestone  \n",
       "1        Frank Lloyd  \n",
       "2    Lewis Milestone  \n",
       "3      Norman Taurog  \n",
       "4      Frank Borzage  \n",
       "..               ...  \n",
       "436     Rachel Weisz  \n",
       "437      Danny Boyle  \n",
       "438    Jason Robards  \n",
       "439     James Coburn  \n",
       "440      John Huston  \n",
       "\n",
       "[437 rows x 13 columns]"
      ]
     },
     "execution_count": 24,
     "metadata": {},
     "output_type": "execute_result"
    }
   ],
   "source": [
    "#replace missing data \n",
    "dataset.fillna(method=\"ffill\")\n"
   ]
  },
  {
   "cell_type": "code",
   "execution_count": 25,
   "metadata": {},
   "outputs": [
    {
     "data": {
      "image/png": "[encoded data removed]",
      "text/plain": [
       "<Figure size 432x288 with 1 Axes>"
      ]
     },
     "metadata": {
      "needs_background": "light"
     },
     "output_type": "display_data"
    }
   ],
   "source": [
    "#Most Oscar winners are white. \n",
    "def plotdata(data, col, title): \n",
    "    #group data \n",
    "    grouped_data = data[col].value_counts() \n",
    "    #plot graph \n",
    "    grouped_data.plot(kind='bar', fontsize=12,color='b') \n",
    "    #name the x axis and let the fontsize equals to 16px \n",
    "    plt.xlabel( col.upper(), fontsize=16) \n",
    "    #name the y axis and let the fontsize equals to 16px \n",
    "    plt.ylabel('Number of People'.upper(),fontsize=16) \n",
    "    #give the title a name and give it a font-size of 24px \n",
    "    plt.title(title.upper(), fontsize=24) \n",
    "    plt.show() \n",
    "plotdata(dataset,'race_ethnicity', 'distribution by race') "
   ]
  },
  {
   "cell_type": "code",
   "execution_count": 26,
   "metadata": {},
   "outputs": [
    {
     "data": {
      "text/plain": [
       "Text(0.5, 1.0, 'DISTRIBUTION BY COUNTRY')"
      ]
     },
     "execution_count": 26,
     "metadata": {},
     "output_type": "execute_result"
    },
    {
     "data": {
      "image/png": "[encoded data removed]",
      "text/plain": [
       "<Figure size 432x288 with 1 Axes>"
      ]
     },
     "metadata": {
      "needs_background": "light"
     },
     "output_type": "display_data"
    }
   ],
   "source": [
    "#Most Oscar winners are from USA \n",
    "n = 4 \n",
    "#group country data and rename the columns \n",
    "grouped_data = dataset['country'].value_counts().rename_axis('country').reset_index(name='quantity') \n",
    "#if country data is less than n, change column name to 'others'  \n",
    "grouped_data.loc[grouped_data.quantity <= n , 'country'] = 'Others' \n",
    "# regroup country data \n",
    "new_grouped_data = grouped_data.groupby('country').sum() \n",
    "#plot graph of new grouped data and give the bars a color of blue \n",
    "new_grouped_data.plot(kind='bar', fontsize=12,color='b') \n",
    "#name the x axis and let the fontsize equals to 16px \n",
    "plt.xlabel( 'country'.upper(), fontsize=16) \n",
    "#name the y axis and let the fontsize equals to 16px \n",
    "plt.ylabel('Number of People'.upper(),fontsize=16) \n",
    "#give the title a name and give it a font-size of 24px \n",
    "plt.title('distribution by country'.upper(), fontsize=24) "
   ]
  },
  {
   "cell_type": "code",
   "execution_count": 27,
   "metadata": {},
   "outputs": [
    {
     "data": {
      "text/plain": [
       "<matplotlib.axes._subplots.AxesSubplot at 0x7f8d77bcab50>"
      ]
     },
     "execution_count": 27,
     "metadata": {},
     "output_type": "execute_result"
    },
    {
     "data": {
      "image/png": "[encoded data removed]",
      "text/plain": [
       "<Figure size 432x288 with 1 Axes>"
      ]
     },
     "metadata": {
      "needs_background": "light"
     },
     "output_type": "display_data"
    }
   ],
   "source": [
    "#Best Directors tend to be older than best Actors or Actresses. \n",
    "#set x to award_age column \n",
    "x = dataset.award_age \n",
    "#set y to award column \n",
    "y = dataset.award \n",
    "#plot graph using seaborn  \n",
    "sns.barplot(x=x,y=y, ci=None) \n",
    " "
   ]
  },
  {
   "cell_type": "markdown",
   "metadata": {},
   "source": [
    "## Discretizing our age"
   ]
  },
  {
   "cell_type": "code",
   "execution_count": 28,
   "metadata": {},
   "outputs": [],
   "source": [
    "age_buckets = []\n",
    "age = list(dataset['award_age'])\n",
    "for i in range(len(age)):\n",
    "    if age[i] < 35 :#any ages below 35 have been replaced with 1 \n",
    "        age_buckets.append(1)\n",
    "    elif age[i] < 45 :#ages between 35 to 44 have been replaced with 2\n",
    "        age_buckets.append(2)\n",
    "    elif age[i] < 55 :#ages between 45 to 54 have been replaced with 3\n",
    "        age_buckets.append(3)\n",
    "    else:#ages from 55 upwards have been replaced with 4\n",
    "        age_buckets.append(4)\n"
   ]
  },
  {
   "cell_type": "code",
   "execution_count": 29,
   "metadata": {},
   "outputs": [
    {
     "data": {
      "text/html": [
       "<div>\n",
       "<style scoped>\n",
       "    .dataframe tbody tr th:only-of-type {\n",
       "        vertical-align: middle;\n",
       "    }\n",
       "\n",
       "    .dataframe tbody tr th {\n",
       "        vertical-align: top;\n",
       "    }\n",
       "\n",
       "    .dataframe thead th {\n",
       "        text-align: right;\n",
       "    }\n",
       "</style>\n",
       "<table border=\"1\" class=\"dataframe\">\n",
       "  <thead>\n",
       "    <tr style=\"text-align: right;\">\n",
       "      <th></th>\n",
       "      <th>birthplace</th>\n",
       "      <th>date_of_birth</th>\n",
       "      <th>race_ethnicity</th>\n",
       "      <th>year_of_award</th>\n",
       "      <th>award</th>\n",
       "      <th>gender</th>\n",
       "      <th>ldob</th>\n",
       "      <th>country</th>\n",
       "      <th>award_age</th>\n",
       "      <th>sexual_orientation</th>\n",
       "      <th>movie</th>\n",
       "      <th>religion</th>\n",
       "      <th>person</th>\n",
       "      <th>age_buckets</th>\n",
       "    </tr>\n",
       "  </thead>\n",
       "  <tbody>\n",
       "    <tr>\n",
       "      <th>0</th>\n",
       "      <td>Chisinau, Moldova</td>\n",
       "      <td>30-Sep-1895</td>\n",
       "      <td>White</td>\n",
       "      <td>1927</td>\n",
       "      <td>Best Director</td>\n",
       "      <td>Male</td>\n",
       "      <td>11</td>\n",
       "      <td>Moldova</td>\n",
       "      <td>32</td>\n",
       "      <td>Straight</td>\n",
       "      <td>Two Arabian Knights</td>\n",
       "      <td>Na</td>\n",
       "      <td>Lewis Milestone</td>\n",
       "      <td>1</td>\n",
       "    </tr>\n",
       "    <tr>\n",
       "      <th>1</th>\n",
       "      <td>Glasgow, Scotland</td>\n",
       "      <td>02-Feb-1886</td>\n",
       "      <td>White</td>\n",
       "      <td>1930</td>\n",
       "      <td>Best Director</td>\n",
       "      <td>Female</td>\n",
       "      <td>11</td>\n",
       "      <td>Scotland</td>\n",
       "      <td>44</td>\n",
       "      <td>Straight</td>\n",
       "      <td>The Divine Lady</td>\n",
       "      <td>Na</td>\n",
       "      <td>Frank Lloyd</td>\n",
       "      <td>2</td>\n",
       "    </tr>\n",
       "    <tr>\n",
       "      <th>2</th>\n",
       "      <td>Chisinau, Moldova</td>\n",
       "      <td>30-Sep-1895</td>\n",
       "      <td>White</td>\n",
       "      <td>1931</td>\n",
       "      <td>Best Director</td>\n",
       "      <td>Male</td>\n",
       "      <td>11</td>\n",
       "      <td>Moldova</td>\n",
       "      <td>36</td>\n",
       "      <td>Straight</td>\n",
       "      <td>All Quiet on the Western Front</td>\n",
       "      <td>Na</td>\n",
       "      <td>Lewis Milestone</td>\n",
       "      <td>2</td>\n",
       "    </tr>\n",
       "    <tr>\n",
       "      <th>3</th>\n",
       "      <td>Chicago, USA</td>\n",
       "      <td>23-Feb-1899</td>\n",
       "      <td>White</td>\n",
       "      <td>1932</td>\n",
       "      <td>Best Director</td>\n",
       "      <td>Female</td>\n",
       "      <td>11</td>\n",
       "      <td>USA</td>\n",
       "      <td>33</td>\n",
       "      <td>Straight</td>\n",
       "      <td>Skippy</td>\n",
       "      <td>Na</td>\n",
       "      <td>Norman Taurog</td>\n",
       "      <td>1</td>\n",
       "    </tr>\n",
       "    <tr>\n",
       "      <th>4</th>\n",
       "      <td>Salt Lake City, USA</td>\n",
       "      <td>23-Apr-1894</td>\n",
       "      <td>White</td>\n",
       "      <td>1933</td>\n",
       "      <td>Best Director</td>\n",
       "      <td>Female</td>\n",
       "      <td>11</td>\n",
       "      <td>USA</td>\n",
       "      <td>39</td>\n",
       "      <td>Straight</td>\n",
       "      <td>Bad Girl</td>\n",
       "      <td>Roman Catholic</td>\n",
       "      <td>Frank Borzage</td>\n",
       "      <td>2</td>\n",
       "    </tr>\n",
       "    <tr>\n",
       "      <th>...</th>\n",
       "      <td>...</td>\n",
       "      <td>...</td>\n",
       "      <td>...</td>\n",
       "      <td>...</td>\n",
       "      <td>...</td>\n",
       "      <td>...</td>\n",
       "      <td>...</td>\n",
       "      <td>...</td>\n",
       "      <td>...</td>\n",
       "      <td>...</td>\n",
       "      <td>...</td>\n",
       "      <td>...</td>\n",
       "      <td>...</td>\n",
       "      <td>...</td>\n",
       "    </tr>\n",
       "    <tr>\n",
       "      <th>436</th>\n",
       "      <td>London, England</td>\n",
       "      <td>07-Mar-1971</td>\n",
       "      <td>White</td>\n",
       "      <td>2006</td>\n",
       "      <td>Best Supporting Actress</td>\n",
       "      <td>Female</td>\n",
       "      <td>11</td>\n",
       "      <td>England</td>\n",
       "      <td>35</td>\n",
       "      <td>Straight</td>\n",
       "      <td>The Constant Gardener</td>\n",
       "      <td>Jewish</td>\n",
       "      <td>Rachel Weisz</td>\n",
       "      <td>2</td>\n",
       "    </tr>\n",
       "    <tr>\n",
       "      <th>437</th>\n",
       "      <td>Manchester, England</td>\n",
       "      <td>20-Oct-1956</td>\n",
       "      <td>White</td>\n",
       "      <td>2009</td>\n",
       "      <td>Best Director</td>\n",
       "      <td>Male</td>\n",
       "      <td>11</td>\n",
       "      <td>England</td>\n",
       "      <td>53</td>\n",
       "      <td>Straight</td>\n",
       "      <td>Slumdog Millionaire</td>\n",
       "      <td>Roman Catholic</td>\n",
       "      <td>Danny Boyle</td>\n",
       "      <td>3</td>\n",
       "    </tr>\n",
       "    <tr>\n",
       "      <th>438</th>\n",
       "      <td>Chicago, USA</td>\n",
       "      <td>26-Jul-1922</td>\n",
       "      <td>White</td>\n",
       "      <td>1977</td>\n",
       "      <td>Best Supporting Actor</td>\n",
       "      <td>Male</td>\n",
       "      <td>11</td>\n",
       "      <td>USA</td>\n",
       "      <td>55</td>\n",
       "      <td>Straight</td>\n",
       "      <td>All the President's Men</td>\n",
       "      <td>Na</td>\n",
       "      <td>Jason Robards</td>\n",
       "      <td>4</td>\n",
       "    </tr>\n",
       "    <tr>\n",
       "      <th>439</th>\n",
       "      <td>Laurel, USA</td>\n",
       "      <td>31-Aug-1928</td>\n",
       "      <td>White</td>\n",
       "      <td>1999</td>\n",
       "      <td>Best Supporting Actor</td>\n",
       "      <td>Male</td>\n",
       "      <td>11</td>\n",
       "      <td>USA</td>\n",
       "      <td>71</td>\n",
       "      <td>Straight</td>\n",
       "      <td>Affliction</td>\n",
       "      <td>Na</td>\n",
       "      <td>James Coburn</td>\n",
       "      <td>4</td>\n",
       "    </tr>\n",
       "    <tr>\n",
       "      <th>440</th>\n",
       "      <td>Nevada, USA</td>\n",
       "      <td>05-Aug-1906</td>\n",
       "      <td>White</td>\n",
       "      <td>1949</td>\n",
       "      <td>Best Director</td>\n",
       "      <td>Male</td>\n",
       "      <td>11</td>\n",
       "      <td>USA</td>\n",
       "      <td>43</td>\n",
       "      <td>Straight</td>\n",
       "      <td>The Treasure of the Sierra Madre</td>\n",
       "      <td>Na</td>\n",
       "      <td>John Huston</td>\n",
       "      <td>2</td>\n",
       "    </tr>\n",
       "  </tbody>\n",
       "</table>\n",
       "<p>437 rows × 14 columns</p>\n",
       "</div>"
      ],
      "text/plain": [
       "              birthplace date_of_birth race_ethnicity  year_of_award  \\\n",
       "0      Chisinau, Moldova   30-Sep-1895          White           1927   \n",
       "1      Glasgow, Scotland   02-Feb-1886          White           1930   \n",
       "2      Chisinau, Moldova   30-Sep-1895          White           1931   \n",
       "3           Chicago, USA   23-Feb-1899          White           1932   \n",
       "4    Salt Lake City, USA   23-Apr-1894          White           1933   \n",
       "..                   ...           ...            ...            ...   \n",
       "436      London, England   07-Mar-1971          White           2006   \n",
       "437  Manchester, England   20-Oct-1956          White           2009   \n",
       "438         Chicago, USA   26-Jul-1922          White           1977   \n",
       "439          Laurel, USA   31-Aug-1928          White           1999   \n",
       "440          Nevada, USA   05-Aug-1906          White           1949   \n",
       "\n",
       "                       award  gender  ldob   country  award_age  \\\n",
       "0              Best Director    Male    11   Moldova         32   \n",
       "1              Best Director  Female    11  Scotland         44   \n",
       "2              Best Director    Male    11   Moldova         36   \n",
       "3              Best Director  Female    11       USA         33   \n",
       "4              Best Director  Female    11       USA         39   \n",
       "..                       ...     ...   ...       ...        ...   \n",
       "436  Best Supporting Actress  Female    11   England         35   \n",
       "437            Best Director    Male    11   England         53   \n",
       "438    Best Supporting Actor    Male    11       USA         55   \n",
       "439    Best Supporting Actor    Male    11       USA         71   \n",
       "440            Best Director    Male    11       USA         43   \n",
       "\n",
       "    sexual_orientation                             movie        religion  \\\n",
       "0             Straight               Two Arabian Knights              Na   \n",
       "1             Straight                   The Divine Lady              Na   \n",
       "2             Straight    All Quiet on the Western Front              Na   \n",
       "3             Straight                            Skippy              Na   \n",
       "4             Straight                          Bad Girl  Roman Catholic   \n",
       "..                 ...                               ...             ...   \n",
       "436           Straight             The Constant Gardener          Jewish   \n",
       "437           Straight               Slumdog Millionaire  Roman Catholic   \n",
       "438           Straight           All the President's Men              Na   \n",
       "439           Straight                        Affliction              Na   \n",
       "440           Straight  The Treasure of the Sierra Madre              Na   \n",
       "\n",
       "              person  age_buckets  \n",
       "0    Lewis Milestone            1  \n",
       "1        Frank Lloyd            2  \n",
       "2    Lewis Milestone            2  \n",
       "3      Norman Taurog            1  \n",
       "4      Frank Borzage            2  \n",
       "..               ...          ...  \n",
       "436     Rachel Weisz            2  \n",
       "437      Danny Boyle            3  \n",
       "438    Jason Robards            4  \n",
       "439     James Coburn            4  \n",
       "440      John Huston            2  \n",
       "\n",
       "[437 rows x 14 columns]"
      ]
     },
     "execution_count": 29,
     "metadata": {},
     "output_type": "execute_result"
    }
   ],
   "source": [
    "dataset['age_buckets'] = age_buckets\n",
    "dataset"
   ]
  },
  {
   "cell_type": "markdown",
   "metadata": {},
   "source": [
    "## Building our model"
   ]
  },
  {
   "cell_type": "code",
   "execution_count": 30,
   "metadata": {},
   "outputs": [],
   "source": [
    "# split the data into train and test set\n",
    "import matplotlib.pyplot as plt  \n",
    "\n",
    "from sklearn.metrics import plot_confusion_matrix\n",
    "\n",
    "from sklearn.model_selection import train_test_split\n",
    "\n",
    "from sklearn.ensemble import RandomForestClassifier\n",
    "\n",
    "X=dataset[['race_ethnicity','country','award_age']]\n",
    "\n",
    "X=pd.get_dummies(X,columns=['race_ethnicity','country'])\n",
    "\n",
    "y=dataset['award']\n",
    "\n",
    "X_train, X_test, y_train, y_test = train_test_split(X, y,random_state=2,test_size=0.2)\n",
    "\n"
   ]
  },
  {
   "cell_type": "markdown",
   "metadata": {},
   "source": [
    "## Training the Logistic Regression model on the Training set"
   ]
  },
  {
   "cell_type": "code",
   "execution_count": 31,
   "metadata": {},
   "outputs": [
    {
     "data": {
      "text/plain": [
       "LogisticRegression(C=1.0, class_weight=None, dual=False, fit_intercept=True,\n",
       "                   intercept_scaling=1, l1_ratio=None, max_iter=100,\n",
       "                   multi_class='auto', n_jobs=None, penalty='l2',\n",
       "                   random_state=0, solver='lbfgs', tol=0.0001, verbose=0,\n",
       "                   warm_start=False)"
      ]
     },
     "execution_count": 31,
     "metadata": {},
     "output_type": "execute_result"
    }
   ],
   "source": [
    "from sklearn.linear_model import LogisticRegression\n",
    "\n",
    "clf = LogisticRegression(random_state = 0)\n",
    "\n",
    "clf.fit(X_train, y_train)\n",
    "\n"
   ]
  },
  {
   "cell_type": "code",
   "execution_count": 32,
   "metadata": {},
   "outputs": [
    {
     "name": "stdout",
     "output_type": "stream",
     "text": [
      "Accuracy score for training data is: 0.444\n",
      "Accuracy score for test data: 0.352\n"
     ]
    },
    {
     "data": {
      "image/png": "[encoded data removed]",
      "text/plain": [
       "<Figure size 432x288 with 2 Axes>"
      ]
     },
     "metadata": {
      "needs_background": "light"
     },
     "output_type": "display_data"
    },
    {
     "name": "stdout",
     "output_type": "stream",
     "text": [
      "Cross validation mean score: 0.3611257928118393\n",
      "Cross validation scores [0.25       0.34090909 0.45454545 0.29545455 0.43181818 0.34883721\n",
      " 0.37209302 0.39534884]\n"
     ]
    }
   ],
   "source": [
    "print(\"Accuracy score for training data is: {:4.3f}\".format(clf.score(X_train, y_train)))\n",
    "print(\"Accuracy score for test data: {:4.3f}\".format(clf.score(X_test, y_test)))\n",
    "\n",
    "plot_confusion_matrix(clf, X_test, y_test)\n",
    "plt.xticks(rotation='vertical')\n",
    "plt.show()\n",
    "\n",
    "from sklearn.model_selection import KFold, cross_val_score\n",
    "from sklearn import feature_selection, linear_model, model_selection\n",
    "scores = model_selection.cross_val_score(clf, X_train, y_train, scoring='accuracy', cv=8)\n",
    "print(\"Cross validation mean score: {}\".format(scores.mean()))\n",
    "print(\"Cross validation scores\", scores)"
   ]
  },
  {
   "cell_type": "markdown",
   "metadata": {},
   "source": [
    "## Training the K-NN model on the Training set"
   ]
  },
  {
   "cell_type": "code",
   "execution_count": 33,
   "metadata": {},
   "outputs": [
    {
     "data": {
      "text/plain": [
       "KNeighborsClassifier(algorithm='auto', leaf_size=30, metric='minkowski',\n",
       "                     metric_params=None, n_jobs=None, n_neighbors=5, p=2,\n",
       "                     weights='uniform')"
      ]
     },
     "execution_count": 33,
     "metadata": {},
     "output_type": "execute_result"
    }
   ],
   "source": [
    "from sklearn.neighbors import KNeighborsClassifier\n",
    "clf = KNeighborsClassifier(n_neighbors = 5, metric = 'minkowski', p = 2)\n",
    "clf.fit(X_train, y_train)"
   ]
  },
  {
   "cell_type": "code",
   "execution_count": 34,
   "metadata": {},
   "outputs": [
    {
     "name": "stdout",
     "output_type": "stream",
     "text": [
      "Accuracy score for training data is: 0.513\n",
      "Accuracy score for test data: 0.330\n"
     ]
    },
    {
     "data": {
      "image/png": "[encoded data removed]",
      "text/plain": [
       "<Figure size 432x288 with 2 Axes>"
      ]
     },
     "metadata": {
      "needs_background": "light"
     },
     "output_type": "display_data"
    },
    {
     "name": "stdout",
     "output_type": "stream",
     "text": [
      "Cross validation mean scores:0.32386363636363635\n",
      "Cross validation mean scores: [0.25       0.36363636 0.36363636 0.34090909 0.27272727 0.27906977\n",
      " 0.3255814  0.39534884]\n"
     ]
    }
   ],
   "source": [
    "print(\"Accuracy score for training data is: {:4.3f}\".format(clf.score(X_train, y_train)))\n",
    "\n",
    "print(\"Accuracy score for test data: {:4.3f}\".format(clf.score(X_test, y_test)))\n",
    "\n",
    "plot_confusion_matrix(clf, X_test, y_test)\n",
    "plt.xticks(rotation='vertical')\n",
    "plt.show()\n",
    "\n",
    "scores = model_selection.cross_val_score(clf, X_train, y_train, scoring='accuracy', cv=8)\n",
    "print(\"Cross validation mean scores:{}\".format(scores.mean()))\n",
    "print(\"Cross validation mean scores:\",scores)"
   ]
  },
  {
   "cell_type": "markdown",
   "metadata": {},
   "source": [
    "## Training the random forest model on the training set "
   ]
  },
  {
   "cell_type": "code",
   "execution_count": 35,
   "metadata": {},
   "outputs": [
    {
     "name": "stdout",
     "output_type": "stream",
     "text": [
      "Accuracy score for training data is: 0.513\n",
      "Accuracy score for test data: 0.330\n"
     ]
    },
    {
     "data": {
      "image/png": "[encoded data removed]",
      "text/plain": [
       "<Figure size 432x288 with 2 Axes>"
      ]
     },
     "metadata": {
      "needs_background": "light"
     },
     "output_type": "display_data"
    },
    {
     "name": "stdout",
     "output_type": "stream",
     "text": [
      "Cross validation mean scores:0.35273520084566595\n",
      "Cross validation mean scores: [0.25       0.36363636 0.38636364 0.29545455 0.36363636 0.39534884\n",
      " 0.3255814  0.44186047]\n"
     ]
    }
   ],
   "source": [
    "print(\"Accuracy score for training data is: {:4.3f}\".format(clf.score(X_train, y_train)))\n",
    "print(\"Accuracy score for test data: {:4.3f}\".format(clf.score(X_test, y_test)))\n",
    "\n",
    "clf = RandomForestClassifier()\n",
    "clf.fit(X_train, y_train)\n",
    "plot_confusion_matrix(clf, X_test, y_test)\n",
    "plt.xticks(rotation='vertical')\n",
    "plt.show()\n",
    "\n",
    "\n",
    "scores = model_selection.cross_val_score(clf, X_train, y_train, scoring='accuracy', cv=8)\n",
    "print(\"Cross validation mean scores:{}\".format(scores.mean()))\n",
    "print(\"Cross validation mean scores:\",scores)"
   ]
  },
  {
   "cell_type": "markdown",
   "metadata": {},
   "source": [
    "## IMPROVING OUR MODEL "
   ]
  },
  {
   "cell_type": "markdown",
   "metadata": {},
   "source": [
    "## USING FEATURE SELECTION TO DETERMINE THE BEST FEATURES TO USE FROM OUR DATASET"
   ]
  },
  {
   "cell_type": "code",
   "execution_count": 37,
   "metadata": {
    "scrolled": false
   },
   "outputs": [
    {
     "name": "stdout",
     "output_type": "stream",
     "text": [
      "     race_ethnicity  country  award_age  sexual_orientation  religion  movie  \\\n",
      "0               5.0     18.0       14.0                 5.0      15.0  317.0   \n",
      "1               5.0     24.0       26.0                 5.0      15.0  242.0   \n",
      "2               5.0     18.0       18.0                 5.0      15.0   21.0   \n",
      "3               5.0     31.0       15.0                 5.0      15.0  209.0   \n",
      "4               5.0     31.0       21.0                 5.0      19.0   34.0   \n",
      "..              ...      ...        ...                 ...       ...    ...   \n",
      "436             5.0      7.0       17.0                 5.0      12.0  236.0   \n",
      "437             5.0      7.0       35.0                 5.0      19.0  210.0   \n",
      "438             5.0     31.0       37.0                 5.0      15.0   24.0   \n",
      "439             5.0     31.0       52.0                 5.0      15.0   17.0   \n",
      "440             5.0     31.0       25.0                 5.0      15.0  299.0   \n",
      "\n",
      "     person  gender  \n",
      "0     208.0     1.0  \n",
      "1      92.0     0.0  \n",
      "2     208.0     1.0  \n",
      "3     256.0     0.0  \n",
      "4      90.0     0.0  \n",
      "..      ...     ...  \n",
      "436   273.0     0.0  \n",
      "437    57.0     1.0  \n",
      "438   151.0     1.0  \n",
      "439   142.0     1.0  \n",
      "440   177.0     1.0  \n",
      "\n",
      "[437 rows x 8 columns]\n",
      "                Specs       Score\n",
      "2           award_age  425.315191\n",
      "7              gender  144.391422\n",
      "6              person   60.150064\n",
      "5               movie   48.009207\n",
      "1             country   23.836965\n",
      "4            religion    5.102099\n",
      "0      race_ethnicity    3.010500\n",
      "3  sexual_orientation    0.609002\n"
     ]
    }
   ],
   "source": [
    "\n",
    "import pandas as pd\n",
    "import numpy as np\n",
    "from sklearn.feature_selection import SelectKBest\n",
    "from sklearn.feature_selection import chi2\n",
    "from sklearn.preprocessing import LabelEncoder as le\n",
    "from sklearn.preprocessing import OrdinalEncoder\n",
    "\n",
    "\n",
    "\n",
    "dataset_test= dataset\n",
    "\n",
    "\n",
    "ord_enc = OrdinalEncoder()\n",
    "dataset_test[\"religion\"] = ord_enc.fit_transform(dataset_test[[\"religion\"]])\n",
    "dataset_test[\"race_ethnicity\"] = ord_enc.fit_transform(dataset_test[[\"race_ethnicity\"]])\n",
    "dataset_test[\"country\"] = ord_enc.fit_transform(dataset_test[[\"country\"]])\n",
    "dataset_test[\"sexual_orientation\"] = ord_enc.fit_transform(dataset_test[[\"sexual_orientation\"]])\n",
    "dataset_test[\"movie\"] = ord_enc.fit_transform(dataset_test[[\"movie\"]])\n",
    "dataset_test[\"person\"] = ord_enc.fit_transform(dataset_test[[\"person\"]])\n",
    "dataset_test[\"award_age\"] = ord_enc.fit_transform(dataset_test[[\"award_age\"]])\n",
    "dataset_test[\"gender\"] = ord_enc.fit_transform(dataset_test[[\"gender\"]])\n",
    "\n",
    "\n",
    "\n",
    "dataset_test.head(11)\n",
    "\n",
    "\n",
    "X = dataset_test[['race_ethnicity','country','award_age','sexual_orientation','religion', 'movie', 'person','gender']]  #independent columns\n",
    "y = dataset_test['award']    #target column i.e price range\n",
    "print(X)\n",
    "\n",
    "#print(y)\n",
    "#apply SelectKBest class to extract top 10 best features\n",
    "bestfeatures = SelectKBest(score_func=chi2, k=6)\n",
    "fit = bestfeatures.fit(X,y)\n",
    "\n",
    "dfscores = pd.DataFrame(fit.scores_)\n",
    "dfcolumns = pd.DataFrame(X.columns)\n",
    "#concat two dataframes for better visualization \n",
    "featureScores = pd.concat([dfcolumns,dfscores],axis=1)\n",
    "featureScores.columns = ['Specs','Score']  #naming the dataframe columns\n",
    "print(featureScores.nlargest(8,'Score'))  #print 10 best features \n",
    "\n",
    "\n",
    "\n",
    "\n",
    "\n"
   ]
  },
  {
   "cell_type": "markdown",
   "metadata": {},
   "source": [
    "## Training the Logistic Regression model on the Training set with an added column"
   ]
  },
  {
   "cell_type": "code",
   "execution_count": 56,
   "metadata": {},
   "outputs": [],
   "source": [
    "# split the data into train and test set\n",
    "X=dataset[['race_ethnicity','country','award_age','religion','sexual_orientation','gender']]\n",
    "X=pd.get_dummies(X,columns=['race_ethnicity','country','religion','sexual_orientation','gender'])\n",
    "y=dataset['award']\n",
    "X_train, X_test, y_train, y_test = train_test_split(X, y,random_state=1,test_size=0.2)"
   ]
  },
  {
   "cell_type": "code",
   "execution_count": 57,
   "metadata": {},
   "outputs": [
    {
     "data": {
      "text/plain": [
       "LogisticRegression(C=1.0, class_weight=None, dual=False, fit_intercept=True,\n",
       "                   intercept_scaling=1, l1_ratio=None, max_iter=100,\n",
       "                   multi_class='auto', n_jobs=None, penalty='l2',\n",
       "                   random_state=0, solver='lbfgs', tol=0.0001, verbose=0,\n",
       "                   warm_start=False)"
      ]
     },
     "execution_count": 57,
     "metadata": {},
     "output_type": "execute_result"
    }
   ],
   "source": [
    "#importing our logistic regressor \n",
    "from sklearn.linear_model import LogisticRegression\n",
    "\n",
    "clf = LogisticRegression(random_state = 0)\n",
    "clf.fit(X_train, y_train)"
   ]
  },
  {
   "cell_type": "code",
   "execution_count": 59,
   "metadata": {},
   "outputs": [
    {
     "name": "stdout",
     "output_type": "stream",
     "text": [
      "Accuracy score for training data is: 0.642\n",
      "Accuracy score for test data: 0.557\n",
      "Cross validation mean scores: 0.46478594080338265\n",
      "Cross validation mean scores: [0.40909091 0.43181818 0.38636364 0.43181818 0.45454545 0.55813953\n",
      " 0.60465116 0.44186047]\n"
     ]
    },
    {
     "data": {
      "image/png": "[encoded data removed]",
      "text/plain": [
       "<Figure size 432x288 with 2 Axes>"
      ]
     },
     "metadata": {
      "needs_background": "light"
     },
     "output_type": "display_data"
    }
   ],
   "source": [
    "print(\"Accuracy score for training data is: {:4.3f}\".format(clf.score(X_train, y_train)))\n",
    "\n",
    "print(\"Accuracy score for test data: {:4.3f}\".format(clf.score(X_test, y_test)))\n",
    "\n",
    "from sklearn.model_selection import KFold, cross_val_score\n",
    "from sklearn import feature_selection, linear_model, model_selection\n",
    "\n",
    "scores = model_selection.cross_val_score(clf, X_train, y_train, scoring='accuracy', cv=8)\n",
    "print(\"Cross validation mean scores: {}\".format(scores.mean()))\n",
    "print(\"Cross validation mean scores:\",scores)\n",
    "plot_confusion_matrix(clf, X_test, y_test)\n",
    "plt.xticks(rotation='vertical')\n",
    "plt.show()"
   ]
  },
  {
   "cell_type": "markdown",
   "metadata": {},
   "source": [
    "## Training the K-NN model on the Training set with an added column"
   ]
  },
  {
   "cell_type": "code",
   "execution_count": 64,
   "metadata": {},
   "outputs": [
    {
     "data": {
      "text/plain": [
       "KNeighborsClassifier(algorithm='auto', leaf_size=30, metric='minkowski',\n",
       "                     metric_params=None, n_jobs=None, n_neighbors=2, p=2,\n",
       "                     weights='uniform')"
      ]
     },
     "execution_count": 64,
     "metadata": {},
     "output_type": "execute_result"
    }
   ],
   "source": [
    "from sklearn.neighbors import KNeighborsClassifier\n",
    "\n",
    "X=dataset[['race_ethnicity','country','award_age','religion','gender']]\n",
    "\n",
    "X=pd.get_dummies(X,columns=['race_ethnicity','country','religion','gender'])\n",
    "\n",
    "y=dataset['award']\n",
    "\n",
    "X_train, X_test, y_train, y_test = train_test_split(X, y,random_state=1,test_size=0.2)\n",
    "\n",
    "clf = KNeighborsClassifier(n_neighbors=2)\n",
    "\n",
    "clf.fit(X_train, y_train)"
   ]
  },
  {
   "cell_type": "code",
   "execution_count": 65,
   "metadata": {},
   "outputs": [
    {
     "name": "stdout",
     "output_type": "stream",
     "text": [
      "Cross validation mean scores: 0.38682610993657507\n",
      "Cross validation mean scores: [0.45454545 0.36363636 0.40909091 0.36363636 0.34090909 0.34883721\n",
      " 0.37209302 0.44186047]\n"
     ]
    },
    {
     "data": {
      "image/png": "[encoded data removed]",
      "text/plain": [
       "<Figure size 432x288 with 2 Axes>"
      ]
     },
     "metadata": {
      "needs_background": "light"
     },
     "output_type": "display_data"
    },
    {
     "name": "stdout",
     "output_type": "stream",
     "text": [
      "Accuracy score for training data is: 0.670\n",
      "Accuracy score for test data: 0.375\n"
     ]
    }
   ],
   "source": [
    "\n",
    "from sklearn.model_selection import KFold, cross_val_score\n",
    "from sklearn import feature_selection, linear_model, model_selection\n",
    "\n",
    "scores = model_selection.cross_val_score(clf, X_train, y_train, scoring='accuracy', cv=8)\n",
    "\n",
    "#displaying the value of our cross validation \n",
    "print(\"Cross validation mean scores: {}\".format(scores.mean()))\n",
    "print(\"Cross validation mean scores:\",scores)\n",
    "plot_confusion_matrix(clf, X_test, y_test)\n",
    "plt.xticks(rotation='vertical')\n",
    "plt.show()\n",
    "\n",
    "\n",
    "\n",
    "#outputing the value of our accuracy on both the training data and test data\n",
    "print(\"Accuracy score for training data is: {:4.3f}\".format(clf.score(X_train, y_train)))\n",
    "print(\"Accuracy score for test data: {:4.3f}\".format(clf.score(X_test, y_test)))\n",
    "\n",
    "\n"
   ]
  },
  {
   "cell_type": "markdown",
   "metadata": {},
   "source": [
    "## Training the random forest model on the training set with the added column "
   ]
  },
  {
   "cell_type": "code",
   "execution_count": 68,
   "metadata": {
    "scrolled": true
   },
   "outputs": [],
   "source": [
    "# split the data into train and test set\n",
    "\n",
    "#selecting the columns we would be using for the model \n",
    "\n",
    "X=dataset[['race_ethnicity','award_age','religion','country','gender']]\n",
    "X=pd.get_dummies(X,columns=['race_ethnicity','religion','country','gender'])\n",
    "y=dataset['award']\n",
    "\n",
    "X_train, X_test, y_train, y_test = train_test_split(X, y,random_state=1,test_size=0.2)\n"
   ]
  },
  {
   "cell_type": "code",
   "execution_count": 84,
   "metadata": {},
   "outputs": [
    {
     "data": {
      "image/png": "[encoded data removed]",
      "text/plain": [
       "<Figure size 432x288 with 2 Axes>"
      ]
     },
     "metadata": {
      "needs_background": "light"
     },
     "output_type": "display_data"
    },
    {
     "name": "stdout",
     "output_type": "stream",
     "text": [
      "Accuracy score for training data is: 0.736\n",
      "Accuracy score for test data: 0.500\n",
      "Cross validation mean scores:0.4735068710359408\n",
      "Cross validation mean scores: [0.38636364 0.36363636 0.43181818 0.40909091 0.52272727 0.60465116\n",
      " 0.51162791 0.55813953]\n"
     ]
    }
   ],
   "source": [
    "\n",
    "clf = RandomForestClassifier(n_estimators=1000,max_depth=10)\n",
    "\n",
    "#applying our classifier on the on our training set \n",
    "clf.fit(X_train, y_train)\n",
    "\n",
    "plot_confusion_matrix(clf, X_test, y_test)\n",
    "plt.xticks(rotation='vertical')\n",
    "plt.show()\n",
    "\n",
    "#outputing the value of our accuracy \n",
    "print(\"Accuracy score for training data is: {:4.3f}\".format(clf.score(X_train, y_train)))\n",
    "print(\"Accuracy score for test data: {:4.3f}\".format(clf.score(X_test, y_test)))\n",
    "\n",
    "scores = model_selection.cross_val_score(clf, X_train, y_train, scoring='accuracy', cv=8)\n",
    "\n",
    "print(\"Cross validation mean scores:{}\".format(scores.mean()))\n",
    "print(\"Cross validation mean scores:\",scores)\n"
   ]
  },
  {
   "cell_type": "code",
   "execution_count": 85,
   "metadata": {},
   "outputs": [],
   "source": [
    "#importing KMeans\n",
    "from sklearn.cluster import KMeans"
   ]
  },
  {
   "cell_type": "code",
   "execution_count": 86,
   "metadata": {
    "scrolled": true
   },
   "outputs": [
    {
     "data": {
      "text/html": [
       "<div>\n",
       "<style scoped>\n",
       "    .dataframe tbody tr th:only-of-type {\n",
       "        vertical-align: middle;\n",
       "    }\n",
       "\n",
       "    .dataframe tbody tr th {\n",
       "        vertical-align: top;\n",
       "    }\n",
       "\n",
       "    .dataframe thead th {\n",
       "        text-align: right;\n",
       "    }\n",
       "</style>\n",
       "<table border=\"1\" class=\"dataframe\">\n",
       "  <thead>\n",
       "    <tr style=\"text-align: right;\">\n",
       "      <th></th>\n",
       "      <th>award_age</th>\n",
       "      <th>award_age</th>\n",
       "      <th>race_ethnicity_0.0</th>\n",
       "      <th>race_ethnicity_1.0</th>\n",
       "      <th>race_ethnicity_2.0</th>\n",
       "      <th>race_ethnicity_3.0</th>\n",
       "      <th>race_ethnicity_4.0</th>\n",
       "      <th>race_ethnicity_5.0</th>\n",
       "      <th>birthplace_Arlington, USA</th>\n",
       "      <th>birthplace_Astoria, USA</th>\n",
       "      <th>...</th>\n",
       "      <th>award_Best Actress</th>\n",
       "      <th>award_Best Director</th>\n",
       "      <th>award_Best Supporting Actor</th>\n",
       "      <th>award_Best Supporting Actress</th>\n",
       "      <th>sexual_orientation_0.0</th>\n",
       "      <th>sexual_orientation_1.0</th>\n",
       "      <th>sexual_orientation_2.0</th>\n",
       "      <th>sexual_orientation_3.0</th>\n",
       "      <th>sexual_orientation_4.0</th>\n",
       "      <th>sexual_orientation_5.0</th>\n",
       "    </tr>\n",
       "  </thead>\n",
       "  <tbody>\n",
       "    <tr>\n",
       "      <th>0</th>\n",
       "      <td>0.225806</td>\n",
       "      <td>0.225806</td>\n",
       "      <td>0.0</td>\n",
       "      <td>0.0</td>\n",
       "      <td>0.0</td>\n",
       "      <td>0.0</td>\n",
       "      <td>0.0</td>\n",
       "      <td>1.0</td>\n",
       "      <td>0.0</td>\n",
       "      <td>0.0</td>\n",
       "      <td>...</td>\n",
       "      <td>0.0</td>\n",
       "      <td>1.0</td>\n",
       "      <td>0.0</td>\n",
       "      <td>0.0</td>\n",
       "      <td>0.0</td>\n",
       "      <td>0.0</td>\n",
       "      <td>0.0</td>\n",
       "      <td>0.0</td>\n",
       "      <td>0.0</td>\n",
       "      <td>1.0</td>\n",
       "    </tr>\n",
       "    <tr>\n",
       "      <th>1</th>\n",
       "      <td>0.419355</td>\n",
       "      <td>0.419355</td>\n",
       "      <td>0.0</td>\n",
       "      <td>0.0</td>\n",
       "      <td>0.0</td>\n",
       "      <td>0.0</td>\n",
       "      <td>0.0</td>\n",
       "      <td>1.0</td>\n",
       "      <td>0.0</td>\n",
       "      <td>0.0</td>\n",
       "      <td>...</td>\n",
       "      <td>0.0</td>\n",
       "      <td>1.0</td>\n",
       "      <td>0.0</td>\n",
       "      <td>0.0</td>\n",
       "      <td>0.0</td>\n",
       "      <td>0.0</td>\n",
       "      <td>0.0</td>\n",
       "      <td>0.0</td>\n",
       "      <td>0.0</td>\n",
       "      <td>1.0</td>\n",
       "    </tr>\n",
       "  </tbody>\n",
       "</table>\n",
       "<p>2 rows × 250 columns</p>\n",
       "</div>"
      ],
      "text/plain": [
       "   award_age  award_age  race_ethnicity_0.0  race_ethnicity_1.0  \\\n",
       "0   0.225806   0.225806                 0.0                 0.0   \n",
       "1   0.419355   0.419355                 0.0                 0.0   \n",
       "\n",
       "   race_ethnicity_2.0  race_ethnicity_3.0  race_ethnicity_4.0  \\\n",
       "0                 0.0                 0.0                 0.0   \n",
       "1                 0.0                 0.0                 0.0   \n",
       "\n",
       "   race_ethnicity_5.0  birthplace_Arlington, USA  birthplace_Astoria, USA  \\\n",
       "0                 1.0                        0.0                      0.0   \n",
       "1                 1.0                        0.0                      0.0   \n",
       "\n",
       "   ...  award_Best Actress  award_Best Director  award_Best Supporting Actor  \\\n",
       "0  ...                 0.0                  1.0                          0.0   \n",
       "1  ...                 0.0                  1.0                          0.0   \n",
       "\n",
       "   award_Best Supporting Actress  sexual_orientation_0.0  \\\n",
       "0                            0.0                     0.0   \n",
       "1                            0.0                     0.0   \n",
       "\n",
       "   sexual_orientation_1.0  sexual_orientation_2.0  sexual_orientation_3.0  \\\n",
       "0                     0.0                     0.0                     0.0   \n",
       "1                     0.0                     0.0                     0.0   \n",
       "\n",
       "   sexual_orientation_4.0  sexual_orientation_5.0  \n",
       "0                     0.0                     1.0  \n",
       "1                     0.0                     1.0  \n",
       "\n",
       "[2 rows x 250 columns]"
      ]
     },
     "execution_count": 86,
     "metadata": {},
     "output_type": "execute_result"
    }
   ],
   "source": [
    "cluster = dataset[['race_ethnicity', 'award_age','birthplace','award_age','award','sexual_orientation']]\n",
    "cluster = pd.get_dummies(cluster, columns = ['race_ethnicity','birthplace','award','sexual_orientation'])\n",
    "\n",
    "## normalisation of the data\n",
    "cluster = (cluster - cluster.min()) / (cluster.max() - cluster.min())\n",
    "\n",
    "#print ('raw data', df.head(2))\n",
    "cluster.head(2)"
   ]
  },
  {
   "cell_type": "code",
   "execution_count": 87,
   "metadata": {},
   "outputs": [],
   "source": [
    "#importing train_test_split\n",
    "from sklearn.model_selection import train_test_split"
   ]
  },
  {
   "cell_type": "code",
   "execution_count": 88,
   "metadata": {},
   "outputs": [
    {
     "data": {
      "text/plain": [
       "KMeans(algorithm='auto', copy_x=True, init='k-means++', max_iter=500,\n",
       "       n_clusters=8, n_init=10, n_jobs=None, precompute_distances='auto',\n",
       "       random_state=10, tol=0.0001, verbose=0)"
      ]
     },
     "execution_count": 88,
     "metadata": {},
     "output_type": "execute_result"
    }
   ],
   "source": [
    "km = KMeans(random_state=10, max_iter=500)\n",
    "km.fit(cluster)"
   ]
  },
  {
   "cell_type": "code",
   "execution_count": 95,
   "metadata": {},
   "outputs": [
    {
     "data": {
      "image/png": "[encoded data removed]",
      "text/plain": [
       "<Figure size 864x576 with 1 Axes>"
      ]
     },
     "metadata": {
      "needs_background": "light"
     },
     "output_type": "display_data"
    }
   ],
   "source": [
    "distortions = []\n",
    "for i in range(1, 11):#iterating through the set range \n",
    "    km = KMeans(n_clusters=i, init='random',n_init=10, max_iter=300, random_state=0)\n",
    "    km.fit(cluster)\n",
    "    distortions.append(km.inertia_)\n",
    "\n",
    "#graph\n",
    "plt.figure(figsize=(12,8))\n",
    "plt.plot(range(1, 11), distortions, marker='o')\n",
    "plt.xlabel('num of clusters')\n",
    "plt.ylabel('Distortions')\n",
    "plt.show()"
   ]
  },
  {
   "cell_type": "markdown",
   "metadata": {},
   "source": [
    "## PCA CLUSTERS"
   ]
  },
  {
   "cell_type": "code",
   "execution_count": 103,
   "metadata": {
    "scrolled": false
   },
   "outputs": [
    {
     "data": {
      "image/png": "[encoded data removed]",
      "text/plain": [
       "<Figure size 1080x576 with 3 Axes>"
      ]
     },
     "metadata": {
      "needs_background": "light"
     },
     "output_type": "display_data"
    }
   ],
   "source": [
    "#implementation of pca clusters\n",
    "\n",
    "\n",
    "import matplotlib.pyplot as plt\n",
    "\n",
    "from sklearn.decomposition import PCA\n",
    "\n",
    "pca = PCA (2)\n",
    "km = KMeans(n_clusters=5, random_state=10 , max_iter=500)\n",
    "\n",
    "km.fit(cluster)\n",
    "\n",
    "predicted = km.predict(cluster)\n",
    "\n",
    "f,(ax1, ax2,ax3) = plt.subplots(1,3,sharey = True, figsize=(15,8))\n",
    "\n",
    "plot_columns = pca.fit_transform(cluster)\n",
    "ax1.scatter(x=plot_columns[:,1], y=plot_columns[:,0], c=age_buckets)\n",
    "\n",
    "ax2.scatter(x=plot_columns[:,1], y=plot_columns[:,0])\n",
    "\n",
    "ax3.scatter(x=plot_columns[:,1], y=plot_columns[:,0], c=predicted)\n",
    "\n",
    "ax1.title.set_text(\"Clustering based on age \")\n",
    "\n",
    "ax2.title.set_text(\"Clustering pre-training\")\n",
    "\n",
    "ax3.title.set_text(\"Clusters that are predicted by model\")\n",
    "\n",
    "plt.show()\n",
    "\n"
   ]
  },
  {
   "cell_type": "code",
   "execution_count": null,
   "metadata": {},
   "outputs": [],
   "source": []
  },
  {
   "cell_type": "code",
   "execution_count": null,
   "metadata": {},
   "outputs": [],
   "source": []
  },
  {
   "cell_type": "code",
   "execution_count": null,
   "metadata": {},
   "outputs": [],
   "source": []
  }
 ],
 "metadata": {
  "kernelspec": {
   "display_name": "Python 3",
   "language": "python",
   "name": "python3"
  },
  "language_info": {
   "codemirror_mode": {
    "name": "ipython",
    "version": 3
   },
   "file_extension": ".py",
   "mimetype": "text/x-python",
   "name": "python",
   "nbconvert_exporter": "python",
   "pygments_lexer": "ipython3",
   "version": "3.8.5"
  }
 },
 "nbformat": 4,
 "nbformat_minor": 4
}
